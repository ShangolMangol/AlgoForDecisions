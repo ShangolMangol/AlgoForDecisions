{
  "cells": [
    {
      "cell_type": "markdown",
      "metadata": {
        "id": "zol9Wqw0E3Wu"
      },
      "source": [
        "# Question 1"
      ]
    },
    {
      "cell_type": "code",
      "source": [
        "!pip install dowhy\n",
        "!pip install graphviz\n",
        "!pip install efficient-apriori\n",
        "!pip install pydot"
      ],
      "metadata": {
        "id": "HtMXWcFCIkYt"
      },
      "execution_count": null,
      "outputs": []
    },
    {
      "cell_type": "code",
      "execution_count": null,
      "metadata": {
        "id": "NrIfus9tE3Ww"
      },
      "outputs": [],
      "source": [
        "import numpy as np\n",
        "import pandas as pd\n",
        "from dowhy import CausalModel"
      ]
    },
    {
      "cell_type": "code",
      "execution_count": null,
      "metadata": {
        "id": "v1GHDNC1E3Wx"
      },
      "outputs": [],
      "source": [
        "import kagglehub\n",
        "import os\n",
        "\n",
        "# Download latest version\n",
        "#PATH = kagglehub.dataset_download(\"stackoverflow/stack-overflow-2018-developer-survey\")\n",
        "#csv_file_path = os.path.join(PATH, 'survey_results_public.csv')\n",
        "\n",
        "csv_file_path = './survey_results_public.csv'\n",
        "\n",
        "df = pd.read_csv(csv_file_path)\n",
        "df.head()\n",
        "\n"
      ]
    },
    {
      "cell_type": "code",
      "source": [
        "# -------- Data Preparation --------\n",
        "dag_variables = [\n",
        "    'RaceEthnicity', 'Gender', 'Age', 'DevType', 'FormalEducation', 'UndergradMajor',\n",
        "    'ConvertedSalary']\n",
        "\n",
        "df_dag = df[dag_variables].copy()\n",
        "\n",
        "for col in df_dag.select_dtypes(include=['float64', 'int64']).columns:\n",
        "    df_dag[col] = df_dag[col].fillna(df_dag[col].mean())\n",
        "\n",
        "for col in df_dag.select_dtypes(include=['object']).columns:\n",
        "    df_dag[col] = df_dag[col].fillna(df_dag[col].mode()[0])\n",
        "\n",
        "# binary treatment vars\n",
        "masters_df = df_dag.copy()\n",
        "masters_df['FormalEducation'] = (masters_df['FormalEducation'] == \"Master’s degree (MA, MS, M.Eng., MBA, etc.)\").astype(int)\n",
        "\n",
        "bachelors_df = df_dag.copy()\n",
        "bachelors_df['FormalEducation'] = (bachelors_df['FormalEducation'] == \"Bachelor’s degree (BA, BS, B.Eng., etc.)\").astype(int)"
      ],
      "metadata": {
        "id": "iNcAlNsQO8-D"
      },
      "execution_count": null,
      "outputs": []
    },
    {
      "cell_type": "code",
      "execution_count": null,
      "metadata": {
        "id": "8hqI7-3YE3Wy"
      },
      "outputs": [],
      "source": [
        "def compute_causal_effect(treatment, outcome, df, causal_graph):\n",
        "\n",
        "    model = CausalModel(\n",
        "        data=df,\n",
        "        graph=causal_graph.replace(\"\\n\", \" \"),\n",
        "        treatment= treatment,\n",
        "        outcome=outcome)\n",
        "\n",
        "#     model.view_model()\n",
        "\n",
        "    identified_estimand = model.identify_effect(proceed_when_unidentifiable=True)\n",
        "    print(identified_estimand)\n",
        "\n",
        "    estimands = model.identify_effect()\n",
        "\n",
        "    causal_estimate_reg = model.estimate_effect(estimands,\n",
        "                                                    method_name=\"backdoor.linear_regression\",\n",
        "                                                    test_significance=True)\n",
        "    return causal_estimate_reg.value, causal_estimate_reg.test_stat_significance()['p_value']"
      ]
    },
    {
      "cell_type": "code",
      "execution_count": null,
      "metadata": {
        "id": "l7eBaPJUE3Wz"
      },
      "outputs": [],
      "source": [
        "DAG = [\n",
        "    'RaceEthnicity;',\n",
        "    'Gender;',\n",
        "    'Age;',\n",
        "    'DevType;',\n",
        "    'FormalEducation;',\n",
        "    'UndergradMajor;',\n",
        "    'ConvertedSalary;',\n",
        "    'RaceEthnicity -> ConvertedSalary;',\n",
        "    'Gender -> DevType;',\n",
        "    'Gender -> UndergradMajor;',\n",
        "    'UndergradMajor -> DevType;',\n",
        "    'UndergradMajor -> FormalEducation;',\n",
        "    'UndergradMajor -> ConvertedSalary;',\n",
        "    'Age -> DevType;',\n",
        "    'FormalEducation -> DevType;',\n",
        "    'FormalEducation -> ConvertedSalary;',\n",
        "    'RaceEthnicity -> FormalEducation;',\n",
        "    'RaceEthnicity -> DevType;',\n",
        "    'Gender -> FormalEducation;',\n",
        "    'Age -> FormalEducation;',\n",
        "    'DevType -> ConvertedSalary;',\n",
        "    'Gender -> ConvertedSalary;',\n",
        "    'Age -> ConvertedSalary;'\n",
        "]\n",
        "causal_graph = \"\"\"\n",
        "                    digraph {\n",
        "                \"\"\"\n",
        "for line in DAG:\n",
        "    causal_graph = causal_graph + line + \"\\n\"\n",
        "causal_graph = causal_graph + \"}\"\n",
        "\n",
        "\n",
        "#add your code here to compute the required causal effects\n",
        "\n",
        "#example:\n",
        "# ATE, p_val = compute_causal_effect('Gender', 'ConvertedSalary', df, causal_graph)\n",
        "# print('ATE: ', ATE, 'P-val: ',p_val)\n"
      ]
    },
    {
      "cell_type": "code",
      "source": [
        "# (a) ATE for \"Master's degree\" on ConvertedSalary\n",
        "\n",
        "ATE_master, p_val_master = compute_causal_effect('FormalEducation', 'ConvertedSalary', masters_df, causal_graph)\n",
        "print(f\"ATE (Master's degree): {ATE_master}, P-value: {p_val_master}\")\n",
        "\n",
        "# (b) ATE for \"Bachelor's degree\" on ConvertedSalary\n",
        "ATE_bachelor, p_val_bachelor = compute_causal_effect('FormalEducation', 'ConvertedSalary', bachelors_df, causal_graph)\n",
        "print(f\"ATE (Bachelor's degree): {ATE_bachelor}, P-value: {p_val_bachelor}\")"
      ],
      "metadata": {
        "id": "3bGAjwiVPZpZ"
      },
      "execution_count": null,
      "outputs": []
    },
    {
      "cell_type": "code",
      "source": [
        "#q5\n",
        "# Analyze salary distributions by Age, Gender, and RaceEthnicity\n",
        "group_analysis = df_dag.groupby(['Age', 'Gender', 'RaceEthnicity'])['ConvertedSalary'].mean().sort_values()\n",
        "print(group_analysis)"
      ],
      "metadata": {
        "id": "s6empzceY7PH"
      },
      "execution_count": null,
      "outputs": []
    },
    {
      "cell_type": "code",
      "source": [
        "# Define treatment group\n",
        "\n",
        "df_dag['Treatment_Group'] = (\n",
        "    (df_dag['Age'] == '18 - 24 years old') &\n",
        "    (df_dag['Gender'] == 'Female') &\n",
        "    (df_dag['RaceEthnicity'] == 'Black or of African descent;Native American, Pacific Islander, or Indigenous Australian;White or of European descent')\n",
        ").astype(int)\n",
        "\n",
        "#Another one we decided not to work with\n",
        "\n",
        "# df['Treatment_Group'] = (\n",
        "#     (df['Age'] == 'Under 18 years old') &\n",
        "#     (df['Gender'] == 'Male') &\n",
        "#     (df['RaceEthnicity'] == 'East Asian')\n",
        "# ).astype(int)"
      ],
      "metadata": {
        "id": "evyhDwxdZMKo"
      },
      "execution_count": null,
      "outputs": []
    },
    {
      "cell_type": "code",
      "source": [
        "# Modify the DAG\n",
        "DAG = [\n",
        "    'RaceEthnicity;',\n",
        "    'Gender;',\n",
        "    'Age;',\n",
        "    'DevType;',\n",
        "    'FormalEducation;',\n",
        "    'UndergradMajor;',\n",
        "    'ConvertedSalary;',\n",
        "    'Treatment_Group;', # Added\n",
        "   # 'RaceEthnicity -> ConvertedSalary;',\n",
        "   # 'Gender -> DevType;',\n",
        "   # 'Gender -> UndergradMajor;',\n",
        "    'UndergradMajor -> DevType;',\n",
        "    'UndergradMajor -> FormalEducation;',\n",
        "    'UndergradMajor -> ConvertedSalary;',\n",
        "   # 'Age -> DevType;',\n",
        "    'FormalEducation -> DevType;',\n",
        "    'FormalEducation -> ConvertedSalary;',\n",
        "   # 'RaceEthnicity -> FormalEducation;',\n",
        "   # 'RaceEthnicity -> DevType;',\n",
        "   # 'Gender -> FormalEducation;',\n",
        "   # 'Age -> FormalEducation;',\n",
        "    'DevType -> ConvertedSalary;',\n",
        "   # 'Gender -> ConvertedSalary;',\n",
        "   # 'Age -> ConvertedSalary;'\n",
        "    'RaceEthnicity -> Treatment_Group;', # Added from here\n",
        "    'Gender -> Treatment_Group;',\n",
        "    'Age -> Treatment_Group;',\n",
        "    'Treatment_Group -> DevType;'\n",
        "    'Treatment_Group -> FormalEducation;'\n",
        "    'Treatment_Group -> UndergradMajor;'\n",
        "    'Treatment_Group -> ConvertedSalary;'\n",
        "\n",
        "]\n",
        "\n",
        "causal_graph = \"\"\"\n",
        "                    digraph {\n",
        "                \"\"\"\n",
        "for line in DAG:\n",
        "    causal_graph = causal_graph + line + \"\\n\"\n",
        "causal_graph = causal_graph + \"}\""
      ],
      "metadata": {
        "id": "fs_NCgqqZR-t"
      },
      "execution_count": null,
      "outputs": []
    },
    {
      "cell_type": "code",
      "source": [
        "ATE, p_val = compute_causal_effect('Treatment_Group', 'ConvertedSalary', df_dag, causal_graph)\n",
        "print(f\"ATE (Bias against Treatment Group): {ATE}, P-value: {p_val}\")\n"
      ],
      "metadata": {
        "id": "sfjYNjZ9Zddm"
      },
      "execution_count": null,
      "outputs": []
    },
    {
      "cell_type": "markdown",
      "metadata": {
        "id": "8PpyG-8yE3Wz"
      },
      "source": [
        "# Question 3"
      ]
    },
    {
      "cell_type": "code",
      "source": [
        "!pip install efficient-apriori\n"
      ],
      "metadata": {
        "id": "xjsSnDYyblaQ"
      },
      "execution_count": null,
      "outputs": []
    },
    {
      "cell_type": "code",
      "source": [
        "from efficient_apriori import apriori\n",
        "import pandas as pd\n",
        "\n",
        "# -------- Data Preparation --------\n",
        "df = pd.read_csv('./loan_approval_dataset.csv')\n",
        "\n",
        "for col in df.select_dtypes(include=['float64', 'int64']).columns:\n",
        "    if df[col].isnull().sum() > 0:\n",
        "        df[col] = df[col].fillna(df[col].median())\n",
        "\n",
        "for col in df.select_dtypes(include=['object']).columns:\n",
        "    if df[col].isnull().sum() > 0:\n",
        "        df[col] = df[col].fillna(df[col].mode()[0])\n",
        "\n",
        "df[' loan_amount'] = pd.cut(\n",
        "    df[' loan_amount'],\n",
        "    bins=[300000, 7700000, 14500000, 21500000, 39500000],\n",
        "    labels=['300K-7.7M', '7.7M-14.5M', '14.5M-21.5M', '21.5M-39.5M']\n",
        ")\n",
        "\n",
        "df[' loan_status'] = (df[' loan_status'] == ' Approved').astype(int)\n",
        "df[' self_employed'] = (df[' self_employed'] == ' Yes').astype(int)\n",
        "df[' education'] = (df[' education'] == ' Graduate').astype(int)\n",
        "\n",
        "# -------- Convert to Transactions (q1)--------\n",
        "def dataframe_to_transactions(df):\n",
        "    transactions = []\n",
        "    for _, row in df.iterrows():\n",
        "        transaction = [f\"{col}:{row[col]}\" for col in df.columns]\n",
        "        transactions.append(transaction)\n",
        "    return transactions\n",
        "\n",
        "transactions = dataframe_to_transactions(df)\n",
        "\n",
        "# -------- Execute Apriori (q2)--------\n",
        "min_support = 0.15\n",
        "min_confidence = 0.5\n",
        "\n",
        "itemsets, rules = apriori(transactions, min_support=min_support, min_confidence=min_confidence)\n",
        "\n",
        "overrepresented_rules = [rule for rule in rules if rule.lift > 1.05]\n",
        "\n",
        "print(\"\\nFrequent Itemsets:\")\n",
        "for itemset, support in itemsets.items():\n",
        "    print(f\"{itemset}: {support}\")\n",
        "\n",
        "print(\"\\nOver-represented Subpopulations:\")\n",
        "if overrepresented_rules:\n",
        "    for rule in overrepresented_rules:\n",
        "        print(rule)\n",
        "else:\n",
        "    print(\"No significantly over-represented subpopulations found.\")\n"
      ],
      "metadata": {
        "id": "-kwqoeZNfHUT"
      },
      "execution_count": null,
      "outputs": []
    },
    {
      "cell_type": "code",
      "source": [
        "from efficient_apriori import apriori\n",
        "\n",
        "# -------- Execute Apriori (q3)--------\n",
        "min_support = 0.05\n",
        "min_confidence = 0.6\n",
        "\n",
        "itemsets, rules = apriori(transactions, min_support=min_support, min_confidence=min_confidence)\n",
        "loan_term_rules = [rule for rule in rules if 'loan_term' in str(rule)]\n",
        "\n",
        "print(\"\\nLoan Term Related Association Rules:\")\n",
        "if loan_term_rules:\n",
        "    for rule in loan_term_rules:\n",
        "        print(rule)\n",
        "else:\n",
        "    print(\"No rules involving loan_term were found.\")\n",
        "\n"
      ],
      "metadata": {
        "id": "rJ19p1iymGya"
      },
      "execution_count": null,
      "outputs": []
    },
    {
      "cell_type": "markdown",
      "metadata": {
        "id": "Dif4SYPTE3W0"
      },
      "source": [
        "# Question 4"
      ]
    },
    {
      "cell_type": "code",
      "execution_count": null,
      "metadata": {
        "id": "xZKiP-sLE3W0"
      },
      "outputs": [],
      "source": [
        "import matplotlib.pyplot as plt"
      ]
    },
    {
      "cell_type": "code",
      "source": [
        "import pandas as pd\n",
        "import matplotlib.pyplot as plt\n",
        "\n",
        "# -------- Data Preparation --------\n",
        "df = pd.read_csv('./loan_approval_dataset.csv')\n",
        "\n",
        "for col in df.select_dtypes(include=['float64', 'int64']).columns:\n",
        "    if df[col].isnull().sum() > 0:\n",
        "        df[col] = df[col].fillna(df[col].median())\n",
        "\n",
        "for col in df.select_dtypes(include=['object']).columns:\n",
        "    if df[col].isnull().sum() > 0:\n",
        "        df[col] = df[col].fillna(df[col].mode()[0])\n",
        "\n",
        "df[' loan_amount'] = pd.cut(\n",
        "    df[' loan_amount'],\n",
        "    bins=[300000, 7700000, 14500000, 21500000, 39500000],\n",
        "    labels=['300K-7.7M', '7.7M-14.5M', '14.5M-21.5M', '21.5M-39.5M']\n",
        ")\n",
        "df[' loan_status'] = (df[' loan_status'] == ' Approved').astype(int)\n",
        "\n",
        "# -------- Calculate average loan status for each loan_amount bin --------\n",
        "loan_amount_avg_status = df.groupby(' loan_amount')[' loan_status'].mean()\n",
        "\n",
        "# -------- Plot the results (q2) --------\n",
        "plt.figure(figsize=(8, 6))\n",
        "loan_amount_avg_status.plot(kind='bar', color='skyblue')\n",
        "plt.title('Average Loan Status by Loan Amount', fontsize=16)\n",
        "plt.xlabel('Loan Amount Range', fontsize=14)\n",
        "plt.ylabel('Average Loan Status', fontsize=14)\n",
        "plt.grid(axis='y')\n",
        "plt.xticks(rotation=45, fontsize=12)\n",
        "plt.tight_layout()\n",
        "plt.show()\n"
      ],
      "metadata": {
        "id": "HOUms0_nvAES"
      },
      "execution_count": null,
      "outputs": []
    },
    {
      "cell_type": "code",
      "source": [
        "from scipy.stats import entropy\n",
        "import numpy as np\n",
        "import matplotlib.pyplot as plt\n",
        "\n",
        "\n",
        "# -------- Overall distribution of loan statuses ---\n",
        "overall_distribution = df[' loan_status'].value_counts(normalize=True)\n",
        "\n",
        "# -------- Subpopulations based on loan_amount + loan_status distributions ---\n",
        "divergence_results = {}\n",
        "\n",
        "for loan_bin in df[' loan_amount'].unique():\n",
        "    subpop = df[df[' loan_amount'] == loan_bin]\n",
        "    subpop_distribution = subpop[' loan_status'].value_counts(normalize=True)\n",
        "    subpop_distribution = subpop_distribution.reindex(overall_distribution.index, fill_value=0)\n",
        "    kl_div = entropy(subpop_distribution, overall_distribution)\n",
        "    divergence_results[loan_bin] = kl_div\n",
        "\n",
        "# DataFrame as it was easier for plotting\n",
        "divergence_df = pd.DataFrame({\n",
        "    'Loan Amount Range': [bin for bin in divergence_results.keys()],\n",
        "    'KL Divergence': [value for value in divergence_results.values()]\n",
        "}).sort_values(by='KL Divergence', ascending=False)\n",
        "\n",
        "\n",
        "print(\"Most Divergent Subpopulation:\")\n",
        "if not divergence_df.empty:\n",
        "    most_divergent = divergence_df.iloc[0]\n",
        "    print(f\"Loan Amount Range: {most_divergent['Loan Amount Range']}, KL Divergence: {most_divergent['KL Divergence']:.4f}\")\n",
        "else:\n",
        "    print(\"No significant divergent subpopulations found.\")\n",
        "\n",
        "\n",
        "# -------- Plot the results (q3) --------\n",
        "divergence_df['Loan Amount Range'] = divergence_df['Loan Amount Range'].astype(str)\n",
        "\n",
        "plt.figure(figsize=(8, 6))\n",
        "plt.bar(divergence_df['Loan Amount Range'], divergence_df['KL Divergence'], color='salmon')\n",
        "plt.title('KL Divergence by Loan Amount Range', fontsize=16)\n",
        "plt.xlabel('Loan Amount Range', fontsize=14)\n",
        "plt.ylabel('KL Divergence', fontsize=14)\n",
        "plt.grid(axis='y')\n",
        "plt.xticks(rotation=45, fontsize=12)\n",
        "plt.tight_layout()\n",
        "plt.show()\n",
        "\n",
        "\n"
      ],
      "metadata": {
        "id": "UMV_SX1zSaBx"
      },
      "execution_count": null,
      "outputs": []
    }
  ],
  "metadata": {
    "kernelspec": {
      "display_name": "Python 3 (ipykernel)",
      "language": "python",
      "name": "python3"
    },
    "language_info": {
      "codemirror_mode": {
        "name": "ipython",
        "version": 3
      },
      "file_extension": ".py",
      "mimetype": "text/x-python",
      "name": "python",
      "nbconvert_exporter": "python",
      "pygments_lexer": "ipython3",
      "version": "3.11.5"
    },
    "colab": {
      "provenance": []
    }
  },
  "nbformat": 4,
  "nbformat_minor": 0
}
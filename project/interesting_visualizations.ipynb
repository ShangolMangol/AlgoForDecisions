{
 "cells": [
  {
   "cell_type": "markdown",
   "metadata": {},
   "source": [
    "## Interesting Visulizations\n",
    "### Return the top-k interesting visulaizations from any database!\n",
    "#### Submmitters: Ido Tausi, Afek Nahum"
   ]
  },
  {
   "cell_type": "code",
   "execution_count": 1,
   "metadata": {},
   "outputs": [],
   "source": [
    "import numpy as np\n",
    "import matplotlib.pyplot as plt\n",
    "import pandas as pd\n",
    "\n"
   ]
  },
  {
   "cell_type": "code",
   "execution_count": 42,
   "metadata": {},
   "outputs": [
    {
     "data": {
      "text/html": [
       "<div>\n",
       "<style scoped>\n",
       "    .dataframe tbody tr th:only-of-type {\n",
       "        vertical-align: middle;\n",
       "    }\n",
       "\n",
       "    .dataframe tbody tr th {\n",
       "        vertical-align: top;\n",
       "    }\n",
       "\n",
       "    .dataframe thead th {\n",
       "        text-align: right;\n",
       "    }\n",
       "</style>\n",
       "<table border=\"1\" class=\"dataframe\">\n",
       "  <thead>\n",
       "    <tr style=\"text-align: right;\">\n",
       "      <th></th>\n",
       "      <th>Gender</th>\n",
       "      <th>Age</th>\n",
       "      <th>City</th>\n",
       "      <th>Profession</th>\n",
       "      <th>Academic Pressure</th>\n",
       "      <th>Work Pressure</th>\n",
       "      <th>CGPA</th>\n",
       "      <th>Study Satisfaction</th>\n",
       "      <th>Job Satisfaction</th>\n",
       "      <th>Sleep Duration</th>\n",
       "      <th>Dietary Habits</th>\n",
       "      <th>Degree</th>\n",
       "      <th>Have you ever had suicidal thoughts ?</th>\n",
       "      <th>Work/Study Hours</th>\n",
       "      <th>Financial Stress</th>\n",
       "      <th>Family History of Mental Illness</th>\n",
       "      <th>Depression</th>\n",
       "    </tr>\n",
       "  </thead>\n",
       "  <tbody>\n",
       "    <tr>\n",
       "      <th>0</th>\n",
       "      <td>Male</td>\n",
       "      <td>33</td>\n",
       "      <td>Visakhapatnam</td>\n",
       "      <td>Student</td>\n",
       "      <td>5</td>\n",
       "      <td>0</td>\n",
       "      <td>8.97</td>\n",
       "      <td>2</td>\n",
       "      <td>0</td>\n",
       "      <td>5-6 hours</td>\n",
       "      <td>Healthy</td>\n",
       "      <td>B.Pharm</td>\n",
       "      <td>Yes</td>\n",
       "      <td>3</td>\n",
       "      <td>1.0</td>\n",
       "      <td>No</td>\n",
       "      <td>1</td>\n",
       "    </tr>\n",
       "  </tbody>\n",
       "</table>\n",
       "</div>"
      ],
      "text/plain": [
       "  Gender  Age           City Profession  Academic Pressure  Work Pressure  \\\n",
       "0   Male   33  Visakhapatnam    Student                  5              0   \n",
       "\n",
       "   CGPA  Study Satisfaction  Job Satisfaction Sleep Duration Dietary Habits  \\\n",
       "0  8.97                   2                 0      5-6 hours        Healthy   \n",
       "\n",
       "    Degree Have you ever had suicidal thoughts ?  Work/Study Hours  \\\n",
       "0  B.Pharm                                   Yes                 3   \n",
       "\n",
       "   Financial Stress Family History of Mental Illness  Depression  \n",
       "0               1.0                               No           1  "
      ]
     },
     "execution_count": 42,
     "metadata": {},
     "output_type": "execute_result"
    }
   ],
   "source": [
    "\n",
    "# Importing the dataset\n",
    "dataset = pd.read_csv('StudentsDepression.csv')\n",
    "dataset.head(1)"
   ]
  },
  {
   "cell_type": "code",
   "execution_count": 58,
   "metadata": {},
   "outputs": [],
   "source": [
    "def bin_numerical_columns(dataframe):\n",
    "    dataframe = dataframe.copy()\n",
    "    for column in dataframe.columns:\n",
    "        if dataframe[column].dtype == 'float64' or dataframe[column].dtype == 'int64':\n",
    "            if dataframe[column].nunique() < 10:\n",
    "                continue\n",
    "            # remove outliers\n",
    "            q1 = dataframe[column].quantile(0.25)\n",
    "            q3 = dataframe[column].quantile(0.75)\n",
    "            iqr = q3 - q1\n",
    "            lower_bound = q1 - 1.5 * iqr\n",
    "            upper_bound = q3 + 1.5 * iqr\n",
    "            dataframe = dataframe[(dataframe[column] > lower_bound) & (dataframe[column] < upper_bound)]\n",
    "            # binning\n",
    "            bins_number = 10\n",
    "            dataframe[column] = pd.cut(dataframe[column], bins=bins_number)\n",
    "    return dataframe\n"
   ]
  },
  {
   "cell_type": "code",
   "execution_count": 63,
   "metadata": {},
   "outputs": [
    {
     "name": "stdout",
     "output_type": "stream",
     "text": [
      "(8.509, 9.006]: 3422\n",
      "<class 'pandas.core.frame.DataFrame'>\n",
      "(5.527, 6.024]: 3771\n",
      "<class 'pandas.core.frame.DataFrame'>\n",
      "(7.018, 7.515]: 3139\n",
      "<class 'pandas.core.frame.DataFrame'>\n",
      "(8.012, 8.509]: 2903\n",
      "<class 'pandas.core.frame.DataFrame'>\n",
      "(9.503, 10.0]: 3614\n",
      "<class 'pandas.core.frame.DataFrame'>\n",
      "(6.024, 6.521]: 2261\n",
      "<class 'pandas.core.frame.DataFrame'>\n",
      "(7.515, 8.012]: 2458\n",
      "<class 'pandas.core.frame.DataFrame'>\n",
      "(6.521, 7.018]: 1797\n",
      "<class 'pandas.core.frame.DataFrame'>\n",
      "(5.025, 5.527]: 1898\n",
      "<class 'pandas.core.frame.DataFrame'>\n",
      "(9.006, 9.503]: 2617\n",
      "<class 'pandas.core.frame.DataFrame'>\n"
     ]
    }
   ],
   "source": [
    "def subset_data(dataframe, column, value):\n",
    "    return dataframe[dataframe[column] == value]\n",
    "\n",
    "def create_subsets_for_column(dataframe, column):\n",
    "    subsets = {}\n",
    "    for value in dataframe[column].unique():\n",
    "        subsets[value] = subset_data(dataframe, column, value)\n",
    "    return subsets\n",
    "\n",
    "def create_subsets(dataframe):\n",
    "    subsets = {}\n",
    "    for column in dataframe.columns:\n",
    "        subsets[column] = create_subsets_for_column(dataframe, column)\n",
    "    return subsets\n",
    "\n",
    "binned_dataset = bin_numerical_columns(dataset)\n",
    "subsets_age = create_subsets_for_column(binned_dataset, 'CGPA')\n",
    "for key, value in subsets_age.items():\n",
    "    print(f'{key}: {len(value)}')\n",
    "    print(type(value))\n",
    "\n",
    "\n",
    "\"\"\"\n",
    "subsets = {\n",
    "    \"Age\": {\n",
    "        (18, 20]: dataframe,\n",
    "        (20, 22]: dataframe,\n",
    "        ...\n",
    "    },\n",
    "    \"CGPA\": {\n",
    "        (6.5, 7.0]: dataframe,\n",
    "        (7.0, 7.5]: dataframe,\n",
    "        ...\n",
    "    },\n",
    "    ...\n",
    "\n",
    "}\n",
    "\"\"\"\n",
    "    "
   ]
  },
  {
   "cell_type": "code",
   "execution_count": null,
   "metadata": {},
   "outputs": [],
   "source": [
    "\n"
   ]
  }
 ],
 "metadata": {
  "kernelspec": {
   "display_name": "Python 3",
   "language": "python",
   "name": "python3"
  },
  "language_info": {
   "codemirror_mode": {
    "name": "ipython",
    "version": 3
   },
   "file_extension": ".py",
   "mimetype": "text/x-python",
   "name": "python",
   "nbconvert_exporter": "python",
   "pygments_lexer": "ipython3",
   "version": "3.11.2"
  }
 },
 "nbformat": 4,
 "nbformat_minor": 2
}

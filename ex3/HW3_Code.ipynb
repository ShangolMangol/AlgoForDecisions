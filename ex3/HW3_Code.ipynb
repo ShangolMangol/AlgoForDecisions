{
  "cells": [
    {
      "cell_type": "code",
      "source": [
        "!pip install fancyimpute\n"
      ],
      "metadata": {
        "colab": {
          "base_uri": "https://localhost:8080/"
        },
        "id": "oCbtEAm9voXs",
        "outputId": "e79d0275-f165-4bd2-a853-4c0b6b01885a"
      },
      "id": "oCbtEAm9voXs",
      "execution_count": null,
      "outputs": [
        {
          "output_type": "stream",
          "name": "stdout",
          "text": [
            "Collecting fancyimpute\n",
            "  Downloading fancyimpute-0.7.0.tar.gz (25 kB)\n",
            "  Preparing metadata (setup.py) ... \u001b[?25l\u001b[?25hdone\n",
            "Collecting knnimpute>=0.1.0 (from fancyimpute)\n",
            "  Downloading knnimpute-0.1.0.tar.gz (8.3 kB)\n",
            "  Preparing metadata (setup.py) ... \u001b[?25l\u001b[?25hdone\n",
            "Requirement already satisfied: scikit-learn>=0.24.2 in /usr/local/lib/python3.10/dist-packages (from fancyimpute) (1.6.0)\n",
            "Requirement already satisfied: cvxpy in /usr/local/lib/python3.10/dist-packages (from fancyimpute) (1.6.0)\n",
            "Requirement already satisfied: cvxopt in /usr/local/lib/python3.10/dist-packages (from fancyimpute) (1.3.2)\n",
            "Requirement already satisfied: pytest in /usr/local/lib/python3.10/dist-packages (from fancyimpute) (8.3.4)\n",
            "Collecting nose (from fancyimpute)\n",
            "  Downloading nose-1.3.7-py3-none-any.whl.metadata (1.7 kB)\n",
            "Requirement already satisfied: six in /usr/local/lib/python3.10/dist-packages (from knnimpute>=0.1.0->fancyimpute) (1.17.0)\n",
            "Requirement already satisfied: numpy>=1.10 in /usr/local/lib/python3.10/dist-packages (from knnimpute>=0.1.0->fancyimpute) (1.26.4)\n",
            "Requirement already satisfied: scipy>=1.6.0 in /usr/local/lib/python3.10/dist-packages (from scikit-learn>=0.24.2->fancyimpute) (1.13.1)\n",
            "Requirement already satisfied: joblib>=1.2.0 in /usr/local/lib/python3.10/dist-packages (from scikit-learn>=0.24.2->fancyimpute) (1.4.2)\n",
            "Requirement already satisfied: threadpoolctl>=3.1.0 in /usr/local/lib/python3.10/dist-packages (from scikit-learn>=0.24.2->fancyimpute) (3.5.0)\n",
            "Requirement already satisfied: osqp>=0.6.2 in /usr/local/lib/python3.10/dist-packages (from cvxpy->fancyimpute) (0.6.7.post3)\n",
            "Requirement already satisfied: clarabel>=0.5.0 in /usr/local/lib/python3.10/dist-packages (from cvxpy->fancyimpute) (0.9.0)\n",
            "Requirement already satisfied: scs>=3.2.4.post1 in /usr/local/lib/python3.10/dist-packages (from cvxpy->fancyimpute) (3.2.7.post2)\n",
            "Requirement already satisfied: exceptiongroup>=1.0.0rc8 in /usr/local/lib/python3.10/dist-packages (from pytest->fancyimpute) (1.2.2)\n",
            "Requirement already satisfied: iniconfig in /usr/local/lib/python3.10/dist-packages (from pytest->fancyimpute) (2.0.0)\n",
            "Requirement already satisfied: packaging in /usr/local/lib/python3.10/dist-packages (from pytest->fancyimpute) (24.2)\n",
            "Requirement already satisfied: pluggy<2,>=1.5 in /usr/local/lib/python3.10/dist-packages (from pytest->fancyimpute) (1.5.0)\n",
            "Requirement already satisfied: tomli>=1 in /usr/local/lib/python3.10/dist-packages (from pytest->fancyimpute) (2.2.1)\n",
            "Requirement already satisfied: qdldl in /usr/local/lib/python3.10/dist-packages (from osqp>=0.6.2->cvxpy->fancyimpute) (0.1.7.post5)\n",
            "Downloading nose-1.3.7-py3-none-any.whl (154 kB)\n",
            "\u001b[2K   \u001b[90m━━━━━━━━━━━━━━━━━━━━━━━━━━━━━━━━━━━━━━━━\u001b[0m \u001b[32m154.7/154.7 kB\u001b[0m \u001b[31m7.3 MB/s\u001b[0m eta \u001b[36m0:00:00\u001b[0m\n",
            "\u001b[?25hBuilding wheels for collected packages: fancyimpute, knnimpute\n",
            "  Building wheel for fancyimpute (setup.py) ... \u001b[?25l\u001b[?25hdone\n",
            "  Created wheel for fancyimpute: filename=fancyimpute-0.7.0-py3-none-any.whl size=29879 sha256=de8acff0f8d66b04b5cd8e76d6059a44aa18a62631e98e8ffdfe626a173c7a6f\n",
            "  Stored in directory: /root/.cache/pip/wheels/7b/0c/d3/ee82d1fbdcc0858d96434af108608d01703505d453720c84ed\n",
            "  Building wheel for knnimpute (setup.py) ... \u001b[?25l\u001b[?25hdone\n",
            "  Created wheel for knnimpute: filename=knnimpute-0.1.0-py3-none-any.whl size=11329 sha256=1021fe596eb53e5ab3ec6a6cbb0951addeb7eed05b67159b9e1839c9ece27bff\n",
            "  Stored in directory: /root/.cache/pip/wheels/46/06/a5/45a724630562413c374e29c08732411d496092408b3a7bf754\n",
            "Successfully built fancyimpute knnimpute\n",
            "Installing collected packages: nose, knnimpute, fancyimpute\n",
            "Successfully installed fancyimpute-0.7.0 knnimpute-0.1.0 nose-1.3.7\n"
          ]
        }
      ]
    },
    {
      "cell_type": "code",
      "execution_count": null,
      "id": "ff073b7b",
      "metadata": {
        "colab": {
          "base_uri": "https://localhost:8080/",
          "height": 224
        },
        "id": "ff073b7b",
        "outputId": "a48616c8-2362-438f-cebf-13ba3f8b6f40"
      },
      "outputs": [
        {
          "output_type": "stream",
          "name": "stdout",
          "text": [
            "Data with missing values:\n"
          ]
        },
        {
          "output_type": "execute_result",
          "data": {
            "text/plain": [
              "   sepal length (cm)  sepal width (cm)  petal length (cm)  petal width (cm)\n",
              "0                NaN               3.5                1.4               0.2\n",
              "1                4.9               3.0                1.4               0.2\n",
              "2                4.7               3.2                1.3               0.2\n",
              "3                4.6               3.1                1.5               0.2\n",
              "4                5.0               3.6                1.4               0.2"
            ],
            "text/html": [
              "\n",
              "  <div id=\"df-a2c81017-4052-40ce-97ff-7088cfe18add\" class=\"colab-df-container\">\n",
              "    <div>\n",
              "<style scoped>\n",
              "    .dataframe tbody tr th:only-of-type {\n",
              "        vertical-align: middle;\n",
              "    }\n",
              "\n",
              "    .dataframe tbody tr th {\n",
              "        vertical-align: top;\n",
              "    }\n",
              "\n",
              "    .dataframe thead th {\n",
              "        text-align: right;\n",
              "    }\n",
              "</style>\n",
              "<table border=\"1\" class=\"dataframe\">\n",
              "  <thead>\n",
              "    <tr style=\"text-align: right;\">\n",
              "      <th></th>\n",
              "      <th>sepal length (cm)</th>\n",
              "      <th>sepal width (cm)</th>\n",
              "      <th>petal length (cm)</th>\n",
              "      <th>petal width (cm)</th>\n",
              "    </tr>\n",
              "  </thead>\n",
              "  <tbody>\n",
              "    <tr>\n",
              "      <th>0</th>\n",
              "      <td>NaN</td>\n",
              "      <td>3.5</td>\n",
              "      <td>1.4</td>\n",
              "      <td>0.2</td>\n",
              "    </tr>\n",
              "    <tr>\n",
              "      <th>1</th>\n",
              "      <td>4.9</td>\n",
              "      <td>3.0</td>\n",
              "      <td>1.4</td>\n",
              "      <td>0.2</td>\n",
              "    </tr>\n",
              "    <tr>\n",
              "      <th>2</th>\n",
              "      <td>4.7</td>\n",
              "      <td>3.2</td>\n",
              "      <td>1.3</td>\n",
              "      <td>0.2</td>\n",
              "    </tr>\n",
              "    <tr>\n",
              "      <th>3</th>\n",
              "      <td>4.6</td>\n",
              "      <td>3.1</td>\n",
              "      <td>1.5</td>\n",
              "      <td>0.2</td>\n",
              "    </tr>\n",
              "    <tr>\n",
              "      <th>4</th>\n",
              "      <td>5.0</td>\n",
              "      <td>3.6</td>\n",
              "      <td>1.4</td>\n",
              "      <td>0.2</td>\n",
              "    </tr>\n",
              "  </tbody>\n",
              "</table>\n",
              "</div>\n",
              "    <div class=\"colab-df-buttons\">\n",
              "\n",
              "  <div class=\"colab-df-container\">\n",
              "    <button class=\"colab-df-convert\" onclick=\"convertToInteractive('df-a2c81017-4052-40ce-97ff-7088cfe18add')\"\n",
              "            title=\"Convert this dataframe to an interactive table.\"\n",
              "            style=\"display:none;\">\n",
              "\n",
              "  <svg xmlns=\"http://www.w3.org/2000/svg\" height=\"24px\" viewBox=\"0 -960 960 960\">\n",
              "    <path d=\"M120-120v-720h720v720H120Zm60-500h600v-160H180v160Zm220 220h160v-160H400v160Zm0 220h160v-160H400v160ZM180-400h160v-160H180v160Zm440 0h160v-160H620v160ZM180-180h160v-160H180v160Zm440 0h160v-160H620v160Z\"/>\n",
              "  </svg>\n",
              "    </button>\n",
              "\n",
              "  <style>\n",
              "    .colab-df-container {\n",
              "      display:flex;\n",
              "      gap: 12px;\n",
              "    }\n",
              "\n",
              "    .colab-df-convert {\n",
              "      background-color: #E8F0FE;\n",
              "      border: none;\n",
              "      border-radius: 50%;\n",
              "      cursor: pointer;\n",
              "      display: none;\n",
              "      fill: #1967D2;\n",
              "      height: 32px;\n",
              "      padding: 0 0 0 0;\n",
              "      width: 32px;\n",
              "    }\n",
              "\n",
              "    .colab-df-convert:hover {\n",
              "      background-color: #E2EBFA;\n",
              "      box-shadow: 0px 1px 2px rgba(60, 64, 67, 0.3), 0px 1px 3px 1px rgba(60, 64, 67, 0.15);\n",
              "      fill: #174EA6;\n",
              "    }\n",
              "\n",
              "    .colab-df-buttons div {\n",
              "      margin-bottom: 4px;\n",
              "    }\n",
              "\n",
              "    [theme=dark] .colab-df-convert {\n",
              "      background-color: #3B4455;\n",
              "      fill: #D2E3FC;\n",
              "    }\n",
              "\n",
              "    [theme=dark] .colab-df-convert:hover {\n",
              "      background-color: #434B5C;\n",
              "      box-shadow: 0px 1px 3px 1px rgba(0, 0, 0, 0.15);\n",
              "      filter: drop-shadow(0px 1px 2px rgba(0, 0, 0, 0.3));\n",
              "      fill: #FFFFFF;\n",
              "    }\n",
              "  </style>\n",
              "\n",
              "    <script>\n",
              "      const buttonEl =\n",
              "        document.querySelector('#df-a2c81017-4052-40ce-97ff-7088cfe18add button.colab-df-convert');\n",
              "      buttonEl.style.display =\n",
              "        google.colab.kernel.accessAllowed ? 'block' : 'none';\n",
              "\n",
              "      async function convertToInteractive(key) {\n",
              "        const element = document.querySelector('#df-a2c81017-4052-40ce-97ff-7088cfe18add');\n",
              "        const dataTable =\n",
              "          await google.colab.kernel.invokeFunction('convertToInteractive',\n",
              "                                                    [key], {});\n",
              "        if (!dataTable) return;\n",
              "\n",
              "        const docLinkHtml = 'Like what you see? Visit the ' +\n",
              "          '<a target=\"_blank\" href=https://colab.research.google.com/notebooks/data_table.ipynb>data table notebook</a>'\n",
              "          + ' to learn more about interactive tables.';\n",
              "        element.innerHTML = '';\n",
              "        dataTable['output_type'] = 'display_data';\n",
              "        await google.colab.output.renderOutput(dataTable, element);\n",
              "        const docLink = document.createElement('div');\n",
              "        docLink.innerHTML = docLinkHtml;\n",
              "        element.appendChild(docLink);\n",
              "      }\n",
              "    </script>\n",
              "  </div>\n",
              "\n",
              "\n",
              "<div id=\"df-65e77796-f198-4002-9d25-69d502a47843\">\n",
              "  <button class=\"colab-df-quickchart\" onclick=\"quickchart('df-65e77796-f198-4002-9d25-69d502a47843')\"\n",
              "            title=\"Suggest charts\"\n",
              "            style=\"display:none;\">\n",
              "\n",
              "<svg xmlns=\"http://www.w3.org/2000/svg\" height=\"24px\"viewBox=\"0 0 24 24\"\n",
              "     width=\"24px\">\n",
              "    <g>\n",
              "        <path d=\"M19 3H5c-1.1 0-2 .9-2 2v14c0 1.1.9 2 2 2h14c1.1 0 2-.9 2-2V5c0-1.1-.9-2-2-2zM9 17H7v-7h2v7zm4 0h-2V7h2v10zm4 0h-2v-4h2v4z\"/>\n",
              "    </g>\n",
              "</svg>\n",
              "  </button>\n",
              "\n",
              "<style>\n",
              "  .colab-df-quickchart {\n",
              "      --bg-color: #E8F0FE;\n",
              "      --fill-color: #1967D2;\n",
              "      --hover-bg-color: #E2EBFA;\n",
              "      --hover-fill-color: #174EA6;\n",
              "      --disabled-fill-color: #AAA;\n",
              "      --disabled-bg-color: #DDD;\n",
              "  }\n",
              "\n",
              "  [theme=dark] .colab-df-quickchart {\n",
              "      --bg-color: #3B4455;\n",
              "      --fill-color: #D2E3FC;\n",
              "      --hover-bg-color: #434B5C;\n",
              "      --hover-fill-color: #FFFFFF;\n",
              "      --disabled-bg-color: #3B4455;\n",
              "      --disabled-fill-color: #666;\n",
              "  }\n",
              "\n",
              "  .colab-df-quickchart {\n",
              "    background-color: var(--bg-color);\n",
              "    border: none;\n",
              "    border-radius: 50%;\n",
              "    cursor: pointer;\n",
              "    display: none;\n",
              "    fill: var(--fill-color);\n",
              "    height: 32px;\n",
              "    padding: 0;\n",
              "    width: 32px;\n",
              "  }\n",
              "\n",
              "  .colab-df-quickchart:hover {\n",
              "    background-color: var(--hover-bg-color);\n",
              "    box-shadow: 0 1px 2px rgba(60, 64, 67, 0.3), 0 1px 3px 1px rgba(60, 64, 67, 0.15);\n",
              "    fill: var(--button-hover-fill-color);\n",
              "  }\n",
              "\n",
              "  .colab-df-quickchart-complete:disabled,\n",
              "  .colab-df-quickchart-complete:disabled:hover {\n",
              "    background-color: var(--disabled-bg-color);\n",
              "    fill: var(--disabled-fill-color);\n",
              "    box-shadow: none;\n",
              "  }\n",
              "\n",
              "  .colab-df-spinner {\n",
              "    border: 2px solid var(--fill-color);\n",
              "    border-color: transparent;\n",
              "    border-bottom-color: var(--fill-color);\n",
              "    animation:\n",
              "      spin 1s steps(1) infinite;\n",
              "  }\n",
              "\n",
              "  @keyframes spin {\n",
              "    0% {\n",
              "      border-color: transparent;\n",
              "      border-bottom-color: var(--fill-color);\n",
              "      border-left-color: var(--fill-color);\n",
              "    }\n",
              "    20% {\n",
              "      border-color: transparent;\n",
              "      border-left-color: var(--fill-color);\n",
              "      border-top-color: var(--fill-color);\n",
              "    }\n",
              "    30% {\n",
              "      border-color: transparent;\n",
              "      border-left-color: var(--fill-color);\n",
              "      border-top-color: var(--fill-color);\n",
              "      border-right-color: var(--fill-color);\n",
              "    }\n",
              "    40% {\n",
              "      border-color: transparent;\n",
              "      border-right-color: var(--fill-color);\n",
              "      border-top-color: var(--fill-color);\n",
              "    }\n",
              "    60% {\n",
              "      border-color: transparent;\n",
              "      border-right-color: var(--fill-color);\n",
              "    }\n",
              "    80% {\n",
              "      border-color: transparent;\n",
              "      border-right-color: var(--fill-color);\n",
              "      border-bottom-color: var(--fill-color);\n",
              "    }\n",
              "    90% {\n",
              "      border-color: transparent;\n",
              "      border-bottom-color: var(--fill-color);\n",
              "    }\n",
              "  }\n",
              "</style>\n",
              "\n",
              "  <script>\n",
              "    async function quickchart(key) {\n",
              "      const quickchartButtonEl =\n",
              "        document.querySelector('#' + key + ' button');\n",
              "      quickchartButtonEl.disabled = true;  // To prevent multiple clicks.\n",
              "      quickchartButtonEl.classList.add('colab-df-spinner');\n",
              "      try {\n",
              "        const charts = await google.colab.kernel.invokeFunction(\n",
              "            'suggestCharts', [key], {});\n",
              "      } catch (error) {\n",
              "        console.error('Error during call to suggestCharts:', error);\n",
              "      }\n",
              "      quickchartButtonEl.classList.remove('colab-df-spinner');\n",
              "      quickchartButtonEl.classList.add('colab-df-quickchart-complete');\n",
              "    }\n",
              "    (() => {\n",
              "      let quickchartButtonEl =\n",
              "        document.querySelector('#df-65e77796-f198-4002-9d25-69d502a47843 button');\n",
              "      quickchartButtonEl.style.display =\n",
              "        google.colab.kernel.accessAllowed ? 'block' : 'none';\n",
              "    })();\n",
              "  </script>\n",
              "</div>\n",
              "\n",
              "    </div>\n",
              "  </div>\n"
            ],
            "application/vnd.google.colaboratory.intrinsic+json": {
              "type": "dataframe",
              "variable_name": "data",
              "summary": "{\n  \"name\": \"data\",\n  \"rows\": 150,\n  \"fields\": [\n    {\n      \"column\": \"sepal length (cm)\",\n      \"properties\": {\n        \"dtype\": \"number\",\n        \"std\": 0.21664598743334196,\n        \"min\": 4.3,\n        \"max\": 5.0,\n        \"num_unique_values\": 8,\n        \"samples\": [\n          4.7,\n          4.8,\n          4.9\n        ],\n        \"semantic_type\": \"\",\n        \"description\": \"\"\n      }\n    },\n    {\n      \"column\": \"sepal width (cm)\",\n      \"properties\": {\n        \"dtype\": \"number\",\n        \"std\": 0.435866284936698,\n        \"min\": 2.0,\n        \"max\": 4.4,\n        \"num_unique_values\": 23,\n        \"samples\": [\n          2.3,\n          4.0,\n          3.5\n        ],\n        \"semantic_type\": \"\",\n        \"description\": \"\"\n      }\n    },\n    {\n      \"column\": \"petal length (cm)\",\n      \"properties\": {\n        \"dtype\": \"number\",\n        \"std\": 1.7652982332594667,\n        \"min\": 1.0,\n        \"max\": 6.9,\n        \"num_unique_values\": 43,\n        \"samples\": [\n          6.7,\n          3.8,\n          3.7\n        ],\n        \"semantic_type\": \"\",\n        \"description\": \"\"\n      }\n    },\n    {\n      \"column\": \"petal width (cm)\",\n      \"properties\": {\n        \"dtype\": \"number\",\n        \"std\": 0.7622376689603465,\n        \"min\": 0.1,\n        \"max\": 2.5,\n        \"num_unique_values\": 22,\n        \"samples\": [\n          0.2,\n          1.2,\n          1.3\n        ],\n        \"semantic_type\": \"\",\n        \"description\": \"\"\n      }\n    }\n  ]\n}"
            }
          },
          "metadata": {},
          "execution_count": 3
        }
      ],
      "source": [
        "import numpy as np\n",
        "import pandas as pd\n",
        "from sklearn.datasets import load_iris\n",
        "from sklearn.model_selection import train_test_split\n",
        "from sklearn.linear_model import LogisticRegression\n",
        "from sklearn.metrics import accuracy_score\n",
        "\n",
        "# Load the dataset\n",
        "iris = load_iris()\n",
        "data = pd.DataFrame(iris.data, columns=iris.feature_names)\n",
        "target = iris.target\n",
        "\n",
        "# Introduce MNAR missing values\n",
        "np.random.seed(42)\n",
        "data.loc[data['sepal length (cm)'] > 5.0, 'sepal length (cm)'] = np.nan  # MNAR missing values in 'sepal length (cm)' column\n",
        "\n",
        "# Display the first few rows of the dataset with missing values\n",
        "print(\"Data with missing values:\")\n",
        "data.head()\n",
        "\n"
      ]
    },
    {
      "cell_type": "markdown",
      "id": "5ee34c02",
      "metadata": {
        "id": "5ee34c02"
      },
      "source": [
        "#### Baseline - drop rows with nan values"
      ]
    },
    {
      "cell_type": "code",
      "execution_count": null,
      "id": "098fe016",
      "metadata": {
        "colab": {
          "base_uri": "https://localhost:8080/"
        },
        "id": "098fe016",
        "outputId": "9a7abc08-f2d3-4033-bebc-b3bccf7c6eea"
      },
      "outputs": [
        {
          "output_type": "stream",
          "name": "stdout",
          "text": [
            "Accuracy: 0.8571428571428571\n"
          ]
        }
      ],
      "source": [
        "# Drop rows with missing values\n",
        "d = data.dropna()\n",
        "\n",
        "# Split the dataset into training and testing sets\n",
        "X_train, X_test, y_train, y_test = train_test_split(d, target[d.index], test_size=0.2, random_state=42)\n",
        "\n",
        "# Train a logistic regression model\n",
        "model = LogisticRegression(max_iter=200)\n",
        "model.fit(X_train, y_train)\n",
        "\n",
        "# Predict on the test set\n",
        "y_pred = model.predict(X_test)\n",
        "\n",
        "# Evaluate the model\n",
        "accuracy = accuracy_score(y_test, y_pred)\n",
        "print(f\"Accuracy: {accuracy}\")\n"
      ]
    },
    {
      "cell_type": "markdown",
      "id": "3233f9b3",
      "metadata": {
        "id": "3233f9b3"
      },
      "source": [
        "# Question 1.2 - complete your code here"
      ]
    },
    {
      "cell_type": "code",
      "execution_count": null,
      "id": "047ab98c",
      "metadata": {
        "colab": {
          "base_uri": "https://localhost:8080/"
        },
        "id": "047ab98c",
        "outputId": "54e884c3-8450-4ecd-9e12-7fbe08fa9f74"
      },
      "outputs": [
        {
          "output_type": "stream",
          "name": "stdout",
          "text": [
            "Imputing row 1/150 with 1 missing, elapsed time: 0.014\n",
            "Imputing row 101/150 with 1 missing, elapsed time: 0.017\n",
            "Accuracy using KNN: 1.0\n",
            "Accuracy using Iterative Imputer: 1.0\n",
            "Accuracy using Mean Imputation: 1.0\n"
          ]
        },
        {
          "output_type": "stream",
          "name": "stderr",
          "text": [
            "/usr/local/lib/python3.10/dist-packages/sklearn/utils/deprecation.py:151: FutureWarning: 'force_all_finite' was renamed to 'ensure_all_finite' in 1.6 and will be removed in 1.8.\n",
            "  warnings.warn(\n",
            "/usr/local/lib/python3.10/dist-packages/sklearn/utils/deprecation.py:151: FutureWarning: 'force_all_finite' was renamed to 'ensure_all_finite' in 1.6 and will be removed in 1.8.\n",
            "  warnings.warn(\n",
            "/usr/local/lib/python3.10/dist-packages/sklearn/utils/deprecation.py:151: FutureWarning: 'force_all_finite' was renamed to 'ensure_all_finite' in 1.6 and will be removed in 1.8.\n",
            "  warnings.warn(\n",
            "/usr/local/lib/python3.10/dist-packages/sklearn/utils/deprecation.py:151: FutureWarning: 'force_all_finite' was renamed to 'ensure_all_finite' in 1.6 and will be removed in 1.8.\n",
            "  warnings.warn(\n",
            "/usr/local/lib/python3.10/dist-packages/sklearn/utils/deprecation.py:151: FutureWarning: 'force_all_finite' was renamed to 'ensure_all_finite' in 1.6 and will be removed in 1.8.\n",
            "  warnings.warn(\n"
          ]
        }
      ],
      "source": [
        "import fancyimpute\n",
        "from fancyimpute import KNN, IterativeImputer, SimpleFill\n",
        "\n",
        "'''\n",
        "Select three methods (of your choice, even if they were not covered in class) to impute the missing values\n",
        "Impute the missing values using the selected methods and report the accuracy. Explain the results you got\n",
        "'''\n",
        "\n",
        "#TODO: impute missing values - you can use the data imputation methods from here: https://anaconda.org/brittainhard/fancyimpute\n",
        "# 1. K-Nearest Neighbors (KNN)\n",
        "data_knn = data.copy()\n",
        "data_knn.iloc[:, :] = KNN(k=5).fit_transform(data_knn)\n",
        "\n",
        "# 2. Iterative Imputer (Multivariate Feature Imputation)\n",
        "data_iterative = data.copy()\n",
        "data_iterative.iloc[:, :] = IterativeImputer(max_iter=10, random_state=42).fit_transform(data_iterative)\n",
        "\n",
        "# 3. Mean Imputation (Simple Fill)\n",
        "data_mean = data.copy()\n",
        "data_mean.iloc[:, :] = SimpleFill(\"mean\").fit_transform(data_mean)\n",
        "\n",
        "# Evaluate each imputation method\n",
        "methods = {\"KNN\": data_knn, \"Iterative Imputer\": data_iterative, \"Mean Imputation\": data_mean}\n",
        "for method_name, imputed_data in methods.items():\n",
        "  #!!!from here - not our code!!!\n",
        "  # Split the dataset into training and testing sets\n",
        "  X_train, X_test, y_train, y_test = train_test_split(imputed_data, target, test_size=0.2, random_state=42)\n",
        "\n",
        "  # Train a logistic regression model\n",
        "  model = LogisticRegression(max_iter=200)\n",
        "  model.fit(X_train, y_train)\n",
        "\n",
        "  # Predict on the test set\n",
        "  y_pred = model.predict(X_test)\n",
        "\n",
        "  # Evaluate the model\n",
        "  accuracy = accuracy_score(y_test, y_pred)\n",
        "  ###print(f\"Accuracy: {accuracy}\")\n",
        "  print(f\"Accuracy using {method_name}: {accuracy}\")"
      ]
    },
    {
      "cell_type": "code",
      "source": [
        "import pandas as pd\n",
        "import numpy as np\n",
        "from sklearn.model_selection import train_test_split\n",
        "from sklearn.linear_model import LogisticRegression\n",
        "from sklearn.metrics import accuracy_score\n",
        "from fancyimpute import KNN, IterativeImputer, SimpleFill\n",
        "\n",
        "# Load Titanic dataset\n",
        "url = \"https://raw.githubusercontent.com/datasciencedojo/datasets/master/titanic.csv\"\n",
        "titanic = pd.read_csv(url)\n",
        "\n",
        "# Select relevant features and target\n",
        "features = ['Pclass', 'Sex', 'Age', 'SibSp', 'Parch', 'Fare']\n",
        "titanic = titanic[features + ['Survived']]\n",
        "\n",
        "# Encode categorical feature\n",
        "titanic['Sex'] = titanic['Sex'].map({'male': 0, 'female': 1})\n",
        "\n",
        "# Introduce missing values (simulate MNAR)\n",
        "np.random.seed(42)\n",
        "titanic.loc[titanic['Age'] > 30, 'Age'] = np.nan\n",
        "\n",
        "# Split into features and target\n",
        "data = titanic.drop(columns=['Survived'])\n",
        "target = titanic['Survived']\n",
        "\n",
        "# Impute missing values with three methods\n",
        "methods = {\n",
        "    \"KNN\": KNN(k=5).fit_transform(data.copy()),\n",
        "    \"Iterative Imputer\": IterativeImputer(max_iter=10, random_state=42).fit_transform(data.copy()),\n",
        "    \"Mean Imputation\": SimpleFill(\"mean\").fit_transform(data.copy())\n",
        "}\n",
        "\n",
        "# Evaluate each method\n",
        "for method_name, imputed_data in methods.items():\n",
        "    # Split the dataset\n",
        "    X_train, X_test, y_train, y_test = train_test_split(imputed_data, target, test_size=0.2, random_state=42)\n",
        "\n",
        "    # Train a logistic regression model\n",
        "    model = LogisticRegression(max_iter=200)\n",
        "    model.fit(X_train, y_train)\n",
        "\n",
        "    # Predict on the test set\n",
        "    y_pred = model.predict(X_test)\n",
        "\n",
        "    # Evaluate accuracy\n",
        "    accuracy = accuracy_score(y_test, y_pred)\n",
        "    print(f\"Accuracy using {method_name}: {accuracy}\")\n"
      ],
      "metadata": {
        "colab": {
          "base_uri": "https://localhost:8080/"
        },
        "id": "JH1u3BG_xc2y",
        "outputId": "7926b648-5fab-4ac5-ca13-47eb176a8c52"
      },
      "id": "JH1u3BG_xc2y",
      "execution_count": null,
      "outputs": [
        {
          "output_type": "stream",
          "name": "stderr",
          "text": [
            "/usr/local/lib/python3.10/dist-packages/sklearn/utils/deprecation.py:151: FutureWarning: 'force_all_finite' was renamed to 'ensure_all_finite' in 1.6 and will be removed in 1.8.\n",
            "  warnings.warn(\n",
            "/usr/local/lib/python3.10/dist-packages/sklearn/utils/deprecation.py:151: FutureWarning: 'force_all_finite' was renamed to 'ensure_all_finite' in 1.6 and will be removed in 1.8.\n",
            "  warnings.warn(\n",
            "/usr/local/lib/python3.10/dist-packages/sklearn/utils/deprecation.py:151: FutureWarning: 'force_all_finite' was renamed to 'ensure_all_finite' in 1.6 and will be removed in 1.8.\n",
            "  warnings.warn(\n",
            "/usr/local/lib/python3.10/dist-packages/sklearn/utils/deprecation.py:151: FutureWarning: 'force_all_finite' was renamed to 'ensure_all_finite' in 1.6 and will be removed in 1.8.\n",
            "  warnings.warn(\n"
          ]
        },
        {
          "output_type": "stream",
          "name": "stdout",
          "text": [
            "Imputing row 1/891 with 0 missing, elapsed time: 0.129\n",
            "Imputing row 101/891 with 0 missing, elapsed time: 0.132\n",
            "Imputing row 201/891 with 0 missing, elapsed time: 0.134\n",
            "Imputing row 301/891 with 1 missing, elapsed time: 0.136\n",
            "Imputing row 401/891 with 1 missing, elapsed time: 0.138\n",
            "Imputing row 501/891 with 0 missing, elapsed time: 0.140\n",
            "Imputing row 601/891 with 0 missing, elapsed time: 0.142\n",
            "Imputing row 701/891 with 0 missing, elapsed time: 0.144\n",
            "Imputing row 801/891 with 1 missing, elapsed time: 0.147\n",
            "Accuracy using KNN: 0.7821229050279329\n",
            "Accuracy using Iterative Imputer: 0.7877094972067039\n",
            "Accuracy using Mean Imputation: 0.8044692737430168\n"
          ]
        },
        {
          "output_type": "stream",
          "name": "stderr",
          "text": [
            "/usr/local/lib/python3.10/dist-packages/sklearn/utils/deprecation.py:151: FutureWarning: 'force_all_finite' was renamed to 'ensure_all_finite' in 1.6 and will be removed in 1.8.\n",
            "  warnings.warn(\n"
          ]
        }
      ]
    },
    {
      "cell_type": "markdown",
      "source": [
        "# Question 1.3 - Our code"
      ],
      "metadata": {
        "id": "oxUN2Q5GyKLE"
      },
      "id": "oxUN2Q5GyKLE"
    },
    {
      "cell_type": "code",
      "source": [
        "# Function to introduce MCAR missing values\n",
        "def introduce_mcar(data, missing_fraction, random_state=42):\n",
        "    np.random.seed(random_state)\n",
        "    data_mcar = data.copy()\n",
        "    for col in data_mcar.columns:\n",
        "        missing_indices = np.random.choice(data_mcar.index, size=int(len(data_mcar) * missing_fraction), replace=False)\n",
        "        data_mcar.loc[missing_indices, col] = np.nan\n",
        "    return data_mcar\n",
        "\n",
        "# Modify Iris dataset\n",
        "iris_mcar = introduce_mcar(data, missing_fraction=0.1)  # 10% MCAR missing values\n",
        "\n",
        "# Modify Titanic dataset\n",
        "titanic_mcar = introduce_mcar(data, missing_fraction=0.1)\n",
        "\n",
        "# Imputation and evaluation for both datasets\n",
        "datasets = {\n",
        "    \"Iris\": (iris_mcar, target),\n",
        "    \"Titanic\": (titanic_mcar, titanic['Survived'])\n",
        "}\n",
        "\n",
        "for dataset_name, (data_mcar, target) in datasets.items():\n",
        "    print(f\"\\nResults for {dataset_name} Dataset with MCAR Missing Values:\")\n",
        "    methods = {\n",
        "        \"KNN\": KNN(k=5).fit_transform(data_mcar.copy()),\n",
        "        \"Iterative Imputer\": IterativeImputer(max_iter=10, random_state=42).fit_transform(data_mcar.copy()),\n",
        "        \"Mean Imputation\": SimpleFill(\"mean\").fit_transform(data_mcar.copy())\n",
        "    }\n",
        "    for method_name, imputed_data in methods.items():\n",
        "        # Split the dataset\n",
        "        X_train, X_test, y_train, y_test = train_test_split(imputed_data, target, test_size=0.2, random_state=42)\n",
        "\n",
        "        # Train a logistic regression model\n",
        "        model = LogisticRegression(max_iter=200)\n",
        "        model.fit(X_train, y_train)\n",
        "\n",
        "        # Predict on the test set\n",
        "        y_pred = model.predict(X_test)\n",
        "\n",
        "        # Evaluate accuracy\n",
        "        accuracy = accuracy_score(y_test, y_pred)\n",
        "        print(f\"Dataset: {dataset_name}, Method: {method_name}, Accuracy: {accuracy}\")\n"
      ],
      "metadata": {
        "colab": {
          "base_uri": "https://localhost:8080/"
        },
        "id": "SzUmyCJvyOWy",
        "outputId": "b39d746c-c3f9-4035-8c94-4363a30e6673"
      },
      "id": "SzUmyCJvyOWy",
      "execution_count": null,
      "outputs": [
        {
          "output_type": "stream",
          "name": "stdout",
          "text": [
            "\n",
            "Results for Iris Dataset with MCAR Missing Values:\n"
          ]
        },
        {
          "output_type": "stream",
          "name": "stderr",
          "text": [
            "/usr/local/lib/python3.10/dist-packages/sklearn/utils/deprecation.py:151: FutureWarning: 'force_all_finite' was renamed to 'ensure_all_finite' in 1.6 and will be removed in 1.8.\n",
            "  warnings.warn(\n",
            "/usr/local/lib/python3.10/dist-packages/sklearn/utils/deprecation.py:151: FutureWarning: 'force_all_finite' was renamed to 'ensure_all_finite' in 1.6 and will be removed in 1.8.\n",
            "  warnings.warn(\n",
            "/usr/local/lib/python3.10/dist-packages/sklearn/utils/deprecation.py:151: FutureWarning: 'force_all_finite' was renamed to 'ensure_all_finite' in 1.6 and will be removed in 1.8.\n",
            "  warnings.warn(\n"
          ]
        },
        {
          "output_type": "stream",
          "name": "stdout",
          "text": [
            "Imputing row 1/891 with 0 missing, elapsed time: 0.549\n",
            "Imputing row 101/891 with 0 missing, elapsed time: 0.555\n",
            "Imputing row 201/891 with 1 missing, elapsed time: 0.562\n",
            "Imputing row 301/891 with 3 missing, elapsed time: 0.572\n",
            "Imputing row 401/891 with 1 missing, elapsed time: 0.578\n",
            "Imputing row 501/891 with 0 missing, elapsed time: 0.586\n",
            "Imputing row 601/891 with 0 missing, elapsed time: 0.601\n",
            "Imputing row 701/891 with 1 missing, elapsed time: 0.605\n",
            "Imputing row 801/891 with 2 missing, elapsed time: 0.611\n"
          ]
        },
        {
          "output_type": "stream",
          "name": "stderr",
          "text": [
            "/usr/local/lib/python3.10/dist-packages/sklearn/utils/deprecation.py:151: FutureWarning: 'force_all_finite' was renamed to 'ensure_all_finite' in 1.6 and will be removed in 1.8.\n",
            "  warnings.warn(\n",
            "/usr/local/lib/python3.10/dist-packages/sklearn/utils/deprecation.py:151: FutureWarning: 'force_all_finite' was renamed to 'ensure_all_finite' in 1.6 and will be removed in 1.8.\n",
            "  warnings.warn(\n"
          ]
        },
        {
          "output_type": "stream",
          "name": "stdout",
          "text": [
            "Dataset: Iris, Method: KNN, Accuracy: 0.7821229050279329\n",
            "Dataset: Iris, Method: Iterative Imputer, Accuracy: 0.7653631284916201\n",
            "Dataset: Iris, Method: Mean Imputation, Accuracy: 0.7541899441340782\n",
            "\n",
            "Results for Titanic Dataset with MCAR Missing Values:\n"
          ]
        },
        {
          "output_type": "stream",
          "name": "stderr",
          "text": [
            "/usr/local/lib/python3.10/dist-packages/sklearn/utils/deprecation.py:151: FutureWarning: 'force_all_finite' was renamed to 'ensure_all_finite' in 1.6 and will be removed in 1.8.\n",
            "  warnings.warn(\n",
            "/usr/local/lib/python3.10/dist-packages/sklearn/utils/deprecation.py:151: FutureWarning: 'force_all_finite' was renamed to 'ensure_all_finite' in 1.6 and will be removed in 1.8.\n",
            "  warnings.warn(\n",
            "/usr/local/lib/python3.10/dist-packages/sklearn/utils/deprecation.py:151: FutureWarning: 'force_all_finite' was renamed to 'ensure_all_finite' in 1.6 and will be removed in 1.8.\n",
            "  warnings.warn(\n"
          ]
        },
        {
          "output_type": "stream",
          "name": "stdout",
          "text": [
            "Imputing row 1/891 with 0 missing, elapsed time: 0.573\n",
            "Imputing row 101/891 with 0 missing, elapsed time: 0.587\n",
            "Imputing row 201/891 with 1 missing, elapsed time: 0.592\n",
            "Imputing row 301/891 with 3 missing, elapsed time: 0.596\n",
            "Imputing row 401/891 with 1 missing, elapsed time: 0.600\n",
            "Imputing row 501/891 with 0 missing, elapsed time: 0.605\n",
            "Imputing row 601/891 with 0 missing, elapsed time: 0.609\n",
            "Imputing row 701/891 with 1 missing, elapsed time: 0.613\n",
            "Imputing row 801/891 with 2 missing, elapsed time: 0.617\n"
          ]
        },
        {
          "output_type": "stream",
          "name": "stderr",
          "text": [
            "/usr/local/lib/python3.10/dist-packages/sklearn/utils/deprecation.py:151: FutureWarning: 'force_all_finite' was renamed to 'ensure_all_finite' in 1.6 and will be removed in 1.8.\n",
            "  warnings.warn(\n",
            "/usr/local/lib/python3.10/dist-packages/sklearn/utils/deprecation.py:151: FutureWarning: 'force_all_finite' was renamed to 'ensure_all_finite' in 1.6 and will be removed in 1.8.\n",
            "  warnings.warn(\n"
          ]
        },
        {
          "output_type": "stream",
          "name": "stdout",
          "text": [
            "Dataset: Titanic, Method: KNN, Accuracy: 0.7821229050279329\n",
            "Dataset: Titanic, Method: Iterative Imputer, Accuracy: 0.7653631284916201\n",
            "Dataset: Titanic, Method: Mean Imputation, Accuracy: 0.7541899441340782\n"
          ]
        }
      ]
    },
    {
      "cell_type": "markdown",
      "id": "c6f56abb",
      "metadata": {
        "id": "c6f56abb"
      },
      "source": [
        "# Question 3.1(a.1)"
      ]
    },
    {
      "cell_type": "code",
      "execution_count": null,
      "id": "92c9dde6",
      "metadata": {
        "id": "92c9dde6",
        "outputId": "8ff505ef-eef4-4438-ee46-e7e628583bf9",
        "colab": {
          "base_uri": "https://localhost:8080/"
        }
      },
      "outputs": [
        {
          "output_type": "stream",
          "name": "stdout",
          "text": [
            "With Duplicates:\n",
            "Accuracy: 0.98\n",
            "Precision: 0.98\n",
            "Recall: 0.98\n",
            "\n",
            "Class-wise Accuracy:\n",
            "setosa Accuracy: 1.00\n",
            "versicolor Accuracy: 1.00\n",
            "virginica Accuracy: 0.92\n",
            "\n",
            "Without Duplicates:\n",
            "Accuracy: 1.00\n",
            "Precision: 1.00\n",
            "Recall: 1.00\n",
            "\n",
            "Class-wise Accuracy:\n",
            "setosa Accuracy: 1.00\n",
            "versicolor Accuracy: 1.00\n",
            "virginica Accuracy: 1.00\n"
          ]
        }
      ],
      "source": [
        "import pandas as pd\n",
        "from sklearn.datasets import load_iris\n",
        "from sklearn.model_selection import train_test_split\n",
        "from sklearn.preprocessing import StandardScaler\n",
        "from sklearn.linear_model import LogisticRegression\n",
        "from sklearn.metrics import accuracy_score, precision_score, recall_score, classification_report\n",
        "\n",
        "# Load the Iris dataset\n",
        "iris = load_iris()\n",
        "X = iris.data\n",
        "y = iris.target\n",
        "feature_names = iris.feature_names\n",
        "target_names = iris.target_names\n",
        "\n",
        "# Create a DataFrame\n",
        "df = pd.DataFrame(X, columns=feature_names)\n",
        "df['target'] = y\n",
        "\n",
        "#TODO:\n",
        "'''\n",
        "Add your code here:\n",
        "Create duplicates for only one class of your choice.\n",
        "Vary the percentage of duplicates and report the effect on accuracy for each class.\n",
        "'''\n",
        "\n",
        "# Simulate duplicates by appending duplicate rows\n",
        "df_with_duplicates = pd.concat([df, df], ignore_index=True)\n",
        "\n",
        "# Split the data into training and test sets\n",
        "X_train_dup, X_test, y_train_dup, y_test = train_test_split(df_with_duplicates[feature_names], df_with_duplicates['target'], test_size=0.3, random_state=42)\n",
        "X_train, X_test_clean, y_train, y_test_clean = train_test_split(df[feature_names], df['target'], test_size=0.3, random_state=42)\n",
        "\n",
        "# Standardize the features\n",
        "scaler = StandardScaler()\n",
        "X_train_dup = scaler.fit_transform(X_train_dup)\n",
        "X_test = scaler.transform(X_test)\n",
        "X_train = scaler.fit_transform(X_train)\n",
        "X_test_clean = scaler.transform(X_test_clean)\n",
        "\n",
        "# Train and evaluate model on dataset with duplicates\n",
        "model_dup = LogisticRegression(max_iter=200)\n",
        "model_dup.fit(X_train_dup, y_train_dup)\n",
        "y_pred_dup = model_dup.predict(X_test)\n",
        "\n",
        "# Train and evaluate model on dataset without duplicates\n",
        "model_clean = LogisticRegression(max_iter=200)\n",
        "model_clean.fit(X_train, y_train)\n",
        "y_pred_clean = model_clean.predict(X_test_clean)\n",
        "\n",
        "# Metrics calculation\n",
        "print(\"With Duplicates:\")\n",
        "print(f\"Accuracy: {accuracy_score(y_test, y_pred_dup):.2f}\")\n",
        "print(f\"Precision: {precision_score(y_test, y_pred_dup, average='weighted'):.2f}\")\n",
        "print(f\"Recall: {recall_score(y_test, y_pred_dup, average='weighted'):.2f}\")\n",
        "print(\"\\nClass-wise Accuracy:\")\n",
        "class_accuracy_dup = classification_report(y_test, y_pred_dup, target_names=target_names, output_dict=True)\n",
        "for class_name, metrics in class_accuracy_dup.items():\n",
        "    if class_name in target_names:\n",
        "        print(f\"{class_name} Accuracy: {metrics['precision']:.2f}\")\n",
        "\n",
        "print(\"\\nWithout Duplicates:\")\n",
        "print(f\"Accuracy: {accuracy_score(y_test_clean, y_pred_clean):.2f}\")\n",
        "print(f\"Precision: {precision_score(y_test_clean, y_pred_clean, average='weighted'):.2f}\")\n",
        "print(f\"Recall: {recall_score(y_test_clean, y_pred_clean, average='weighted'):.2f}\")\n",
        "print(\"\\nClass-wise Accuracy:\")\n",
        "class_accuracy_clean = classification_report(y_test_clean, y_pred_clean, target_names=target_names, output_dict=True)\n",
        "for class_name, metrics in class_accuracy_clean.items():\n",
        "    if class_name in target_names:\n",
        "        print(f\"{class_name} Accuracy: {metrics['precision']:.2f}\")\n"
      ]
    },
    {
      "cell_type": "markdown",
      "source": [
        "# Question 3.1(a.2)"
      ],
      "metadata": {
        "id": "ERKbLdXM6HPP"
      },
      "id": "ERKbLdXM6HPP"
    },
    {
      "cell_type": "code",
      "source": [
        "import pandas as pd\n",
        "from sklearn.model_selection import train_test_split\n",
        "from sklearn.preprocessing import StandardScaler\n",
        "from sklearn.linear_model import LogisticRegression\n",
        "from sklearn.metrics import accuracy_score, precision_score, recall_score, classification_report\n",
        "\n",
        "# Load the Wine Quality dataset\n",
        "url = \"https://archive.ics.uci.edu/ml/machine-learning-databases/wine-quality/winequality-red.csv\"\n",
        "data = pd.read_csv(url, sep=\";\")\n",
        "\n",
        "# Separate features and target\n",
        "X = data.drop(columns=[\"quality\"])\n",
        "y = data[\"quality\"]\n",
        "\n",
        "# Create a DataFrame\n",
        "df = pd.DataFrame(X)\n",
        "df['target'] = y\n",
        "\n",
        "# Simulate duplicates by appending duplicate rows\n",
        "df_with_duplicates = pd.concat([df, df], ignore_index=True)\n",
        "\n",
        "# Split the data into training and test sets\n",
        "X_train_dup, X_test, y_train_dup, y_test = train_test_split(\n",
        "    df_with_duplicates.drop(columns=['target']), df_with_duplicates['target'],\n",
        "    test_size=0.3, random_state=42, stratify=df_with_duplicates['target']\n",
        ")\n",
        "X_train, X_test_clean, y_train, y_test_clean = train_test_split(\n",
        "    df.drop(columns=['target']), df['target'],\n",
        "    test_size=0.3, random_state=42, stratify=df['target']\n",
        ")\n",
        "\n",
        "# Standardize the features\n",
        "scaler = StandardScaler()\n",
        "X_train_dup = scaler.fit_transform(X_train_dup)\n",
        "X_test = scaler.transform(X_test)\n",
        "X_train = scaler.fit_transform(X_train)\n",
        "X_test_clean = scaler.transform(X_test_clean)\n",
        "\n",
        "# Train and evaluate model on dataset with duplicates\n",
        "model_dup = LogisticRegression(max_iter=200, random_state=42)\n",
        "model_dup.fit(X_train_dup, y_train_dup)\n",
        "y_pred_dup = model_dup.predict(X_test)\n",
        "\n",
        "# Train and evaluate model on dataset without duplicates\n",
        "model_clean = LogisticRegression(max_iter=200, random_state=42)\n",
        "model_clean.fit(X_train, y_train)\n",
        "y_pred_clean = model_clean.predict(X_test_clean)\n",
        "\n",
        "# Metrics calculation\n",
        "print(\"With Duplicates:\")\n",
        "print(f\"Accuracy: {accuracy_score(y_test, y_pred_dup):.2f}\")\n",
        "print(f\"Precision: {precision_score(y_test, y_pred_dup, average='weighted'):.2f}\")\n",
        "print(f\"Recall: {recall_score(y_test, y_pred_dup, average='weighted'):.2f}\")\n",
        "print(\"\\nClass-wise Accuracy:\")\n",
        "class_accuracy_dup = classification_report(y_test, y_pred_dup, output_dict=True)\n",
        "for class_name, metrics in class_accuracy_dup.items():\n",
        "    if class_name.isdigit():  # Filter class metrics\n",
        "        print(f\"Class {class_name} Accuracy: {metrics['precision']:.2f}\")\n",
        "\n",
        "print(\"\\nWithout Duplicates:\")\n",
        "print(f\"Accuracy: {accuracy_score(y_test_clean, y_pred_clean):.2f}\")\n",
        "print(f\"Precision: {precision_score(y_test_clean, y_pred_clean, average='weighted'):.2f}\")\n",
        "print(f\"Recall: {recall_score(y_test_clean, y_pred_clean, average='weighted'):.2f}\")\n",
        "print(\"\\nClass-wise Accuracy:\")\n",
        "class_accuracy_clean = classification_report(y_test_clean, y_pred_clean, output_dict=True)\n",
        "for class_name, metrics in class_accuracy_clean.items():\n",
        "    if class_name.isdigit():  # Filter class metrics\n",
        "        print(f\"Class {class_name} Accuracy: {metrics['precision']:.2f}\")\n"
      ],
      "metadata": {
        "colab": {
          "base_uri": "https://localhost:8080/"
        },
        "id": "WGWPZ5ol6SWW",
        "outputId": "684eb8a5-e7b2-4ad8-9209-bca467dc2663"
      },
      "id": "WGWPZ5ol6SWW",
      "execution_count": null,
      "outputs": [
        {
          "output_type": "stream",
          "name": "stdout",
          "text": [
            "With Duplicates:\n",
            "Accuracy: 0.60\n",
            "Precision: 0.59\n",
            "Recall: 0.60\n",
            "\n",
            "Class-wise Accuracy:\n",
            "Class 3 Accuracy: 0.00\n",
            "Class 4 Accuracy: 0.67\n",
            "Class 5 Accuracy: 0.67\n",
            "Class 6 Accuracy: 0.55\n",
            "Class 7 Accuracy: 0.52\n",
            "Class 8 Accuracy: 0.00\n",
            "\n",
            "Without Duplicates:\n",
            "Accuracy: 0.60\n",
            "Precision: 0.58\n",
            "Recall: 0.60\n",
            "\n",
            "Class-wise Accuracy:\n"
          ]
        },
        {
          "output_type": "stream",
          "name": "stderr",
          "text": [
            "/usr/local/lib/python3.10/dist-packages/sklearn/metrics/_classification.py:1565: UndefinedMetricWarning: Precision is ill-defined and being set to 0.0 in labels with no predicted samples. Use `zero_division` parameter to control this behavior.\n",
            "  _warn_prf(average, modifier, f\"{metric.capitalize()} is\", len(result))\n",
            "/usr/local/lib/python3.10/dist-packages/sklearn/metrics/_classification.py:1565: UndefinedMetricWarning: Precision is ill-defined and being set to 0.0 in labels with no predicted samples. Use `zero_division` parameter to control this behavior.\n",
            "  _warn_prf(average, modifier, f\"{metric.capitalize()} is\", len(result))\n",
            "/usr/local/lib/python3.10/dist-packages/sklearn/metrics/_classification.py:1565: UndefinedMetricWarning: Precision is ill-defined and being set to 0.0 in labels with no predicted samples. Use `zero_division` parameter to control this behavior.\n",
            "  _warn_prf(average, modifier, f\"{metric.capitalize()} is\", len(result))\n",
            "/usr/local/lib/python3.10/dist-packages/sklearn/metrics/_classification.py:1565: UndefinedMetricWarning: Precision is ill-defined and being set to 0.0 in labels with no predicted samples. Use `zero_division` parameter to control this behavior.\n",
            "  _warn_prf(average, modifier, f\"{metric.capitalize()} is\", len(result))\n",
            "/usr/local/lib/python3.10/dist-packages/sklearn/metrics/_classification.py:1565: UndefinedMetricWarning: Precision is ill-defined and being set to 0.0 in labels with no predicted samples. Use `zero_division` parameter to control this behavior.\n",
            "  _warn_prf(average, modifier, f\"{metric.capitalize()} is\", len(result))\n",
            "/usr/local/lib/python3.10/dist-packages/sklearn/metrics/_classification.py:1565: UndefinedMetricWarning: Precision is ill-defined and being set to 0.0 in labels with no predicted samples. Use `zero_division` parameter to control this behavior.\n",
            "  _warn_prf(average, modifier, f\"{metric.capitalize()} is\", len(result))\n"
          ]
        },
        {
          "output_type": "stream",
          "name": "stdout",
          "text": [
            "Class 3 Accuracy: 0.00\n",
            "Class 4 Accuracy: 0.00\n",
            "Class 5 Accuracy: 0.66\n",
            "Class 6 Accuracy: 0.55\n",
            "Class 7 Accuracy: 0.67\n",
            "Class 8 Accuracy: 0.00\n"
          ]
        },
        {
          "output_type": "stream",
          "name": "stderr",
          "text": [
            "/usr/local/lib/python3.10/dist-packages/sklearn/metrics/_classification.py:1565: UndefinedMetricWarning: Precision is ill-defined and being set to 0.0 in labels with no predicted samples. Use `zero_division` parameter to control this behavior.\n",
            "  _warn_prf(average, modifier, f\"{metric.capitalize()} is\", len(result))\n",
            "/usr/local/lib/python3.10/dist-packages/sklearn/metrics/_classification.py:1565: UndefinedMetricWarning: Precision is ill-defined and being set to 0.0 in labels with no predicted samples. Use `zero_division` parameter to control this behavior.\n",
            "  _warn_prf(average, modifier, f\"{metric.capitalize()} is\", len(result))\n"
          ]
        }
      ]
    },
    {
      "cell_type": "markdown",
      "source": [
        "# Question 3.1(b)"
      ],
      "metadata": {
        "id": "yEVX1n9-EpIt"
      },
      "id": "yEVX1n9-EpIt"
    },
    {
      "cell_type": "code",
      "source": [
        "# NEW SECTION: Analyze the effect of duplicates for a specific class on both datasets\n",
        "# Function to create duplicates for a specific class\n",
        "def create_class_duplicates(df, target_col, class_label, duplicate_percentage):\n",
        "    class_rows = df[df[target_col] == class_label]\n",
        "    num_duplicates = int(len(class_rows) * duplicate_percentage)\n",
        "    duplicated_rows = pd.concat([class_rows] * num_duplicates, ignore_index=True)\n",
        "    return pd.concat([df, duplicated_rows], ignore_index=True)\n",
        "\n",
        "# Experiment with the Iris dataset\n",
        "print(\"\\n--- Experiment with Iris Dataset ---\")\n",
        "\n",
        "# Load the Iris dataset\n",
        "iris = load_iris()\n",
        "X = iris.data\n",
        "y = iris.target\n",
        "feature_names = iris.feature_names\n",
        "target_names = iris.target_names\n",
        "\n",
        "# Create a DataFrame\n",
        "df = pd.DataFrame(X, columns=feature_names)\n",
        "df['target'] = y\n",
        "\n",
        "class_to_duplicate_iris = 0  # Duplicate the 'setosa' class\n",
        "duplicate_percentages = [0.5, 1.0, 2.0]\n",
        "\n",
        "for perc in duplicate_percentages:\n",
        "    print(f\"\\nDuplicate Percentage: {int(perc * 100)}% for Class {class_to_duplicate_iris}\")\n",
        "    df_with_duplicates_iris = create_class_duplicates(df, 'target', class_to_duplicate_iris, perc)\n",
        "    X_train_dup, X_test, y_train_dup, y_test = train_test_split(\n",
        "        df_with_duplicates_iris[feature_names], df_with_duplicates_iris['target'],\n",
        "        test_size=0.3, random_state=42\n",
        "    )\n",
        "    scaler = StandardScaler()\n",
        "    X_train_dup = scaler.fit_transform(X_train_dup)\n",
        "    X_test = scaler.transform(X_test)\n",
        "    model_dup = LogisticRegression(max_iter=200, random_state=42)\n",
        "    model_dup.fit(X_train_dup, y_train_dup)\n",
        "    y_pred_dup = model_dup.predict(X_test)\n",
        "\n",
        "    # Print metrics\n",
        "    print(f\"Accuracy: {accuracy_score(y_test, y_pred_dup):.2f}\")\n",
        "    print(f\"Precision: {precision_score(y_test, y_pred_dup, average='weighted'):.2f}\")\n",
        "    print(f\"Recall: {recall_score(y_test, y_pred_dup, average='weighted'):.2f}\")\n",
        "    print(\"\\nClass-wise Accuracy:\")\n",
        "    class_accuracy_dup = classification_report(y_test, y_pred_dup, target_names=target_names, output_dict=True)\n",
        "    for class_name, metrics in class_accuracy_dup.items():\n",
        "        if class_name in target_names:\n",
        "            print(f\"{class_name} Accuracy: {metrics['precision']:.2f}\")\n",
        "\n",
        "# Experiment with the Wine Quality dataset\n",
        "print(\"\\n--- Experiment with Wine Quality Dataset ---\")\n",
        "url = \"https://archive.ics.uci.edu/ml/machine-learning-databases/wine-quality/winequality-red.csv\"\n",
        "wine_data = pd.read_csv(url, sep=\";\")\n",
        "wine_features = wine_data.drop(columns=[\"quality\"])\n",
        "wine_target = wine_data[\"quality\"]\n",
        "wine_df = wine_features.copy()\n",
        "wine_df['target'] = wine_target\n",
        "class_to_duplicate_wine = 5  # Duplicate the class '5'\n",
        "\n",
        "for perc in duplicate_percentages:\n",
        "    print(f\"\\nDuplicate Percentage: {int(perc * 100)}% for Class {class_to_duplicate_wine}\")\n",
        "    df_with_duplicates_wine = create_class_duplicates(wine_df, 'target', class_to_duplicate_wine, perc)\n",
        "    X_train_dup, X_test, y_train_dup, y_test = train_test_split(\n",
        "        df_with_duplicates_wine[wine_features.columns], df_with_duplicates_wine['target'],\n",
        "        test_size=0.3, random_state=42, stratify=df_with_duplicates_wine['target']\n",
        "    )\n",
        "    scaler = StandardScaler()\n",
        "    X_train_dup = scaler.fit_transform(X_train_dup)\n",
        "    X_test = scaler.transform(X_test)\n",
        "    model_dup = LogisticRegression(max_iter=200, random_state=42)\n",
        "    model_dup.fit(X_train_dup, y_train_dup)\n",
        "    y_pred_dup = model_dup.predict(X_test)\n",
        "\n",
        "    # Print metrics\n",
        "    print(f\"Accuracy: {accuracy_score(y_test, y_pred_dup):.2f}\")\n",
        "    print(f\"Precision: {precision_score(y_test, y_pred_dup, average='weighted'):.2f}\")\n",
        "    print(f\"Recall: {recall_score(y_test, y_pred_dup, average='weighted'):.2f}\")\n",
        "    print(\"\\nClass-wise Accuracy:\")\n",
        "    class_accuracy_dup = classification_report(y_test, y_pred_dup, zero_division=0, output_dict=True)\n",
        "    for class_name, metrics in class_accuracy_dup.items():\n",
        "        if isinstance(class_name, str) and class_name.isdigit():\n",
        "            print(f\"Class {class_name} Accuracy: {metrics['precision']:.2f}\")\n"
      ],
      "metadata": {
        "colab": {
          "base_uri": "https://localhost:8080/"
        },
        "id": "JtrC9JGkBxWh",
        "outputId": "f47bf48c-464f-4936-9b29-7c1ffc66952c"
      },
      "id": "JtrC9JGkBxWh",
      "execution_count": null,
      "outputs": [
        {
          "output_type": "stream",
          "name": "stdout",
          "text": [
            "\n",
            "--- Experiment with Iris Dataset ---\n",
            "\n",
            "Duplicate Percentage: 50% for Class 0\n",
            "Accuracy: 1.00\n",
            "Precision: 1.00\n",
            "Recall: 1.00\n",
            "\n",
            "Class-wise Accuracy:\n",
            "setosa Accuracy: 1.00\n",
            "versicolor Accuracy: 1.00\n",
            "virginica Accuracy: 0.93\n",
            "\n",
            "Duplicate Percentage: 100% for Class 0\n",
            "Accuracy: 1.00\n",
            "Precision: 1.00\n",
            "Recall: 1.00\n",
            "\n",
            "Class-wise Accuracy:\n",
            "setosa Accuracy: 1.00\n",
            "versicolor Accuracy: 1.00\n",
            "virginica Accuracy: 0.93\n",
            "\n",
            "Duplicate Percentage: 200% for Class 0\n",
            "Accuracy: 1.00\n",
            "Precision: 1.00\n",
            "Recall: 1.00\n",
            "\n",
            "Class-wise Accuracy:\n",
            "setosa Accuracy: 1.00\n",
            "versicolor Accuracy: 1.00\n",
            "virginica Accuracy: 0.93\n",
            "\n",
            "--- Experiment with Wine Quality Dataset ---\n",
            "\n",
            "Duplicate Percentage: 50% for Class 5\n",
            "Accuracy: 1.00\n",
            "Precision: 0.99\n",
            "Recall: 1.00\n",
            "\n",
            "Class-wise Accuracy:\n",
            "Class 3 Accuracy: 0.00\n",
            "Class 4 Accuracy: 0.00\n",
            "Class 5 Accuracy: 1.00\n",
            "Class 6 Accuracy: 0.00\n",
            "Class 7 Accuracy: 0.67\n",
            "Class 8 Accuracy: 0.00\n",
            "\n",
            "Duplicate Percentage: 100% for Class 5\n"
          ]
        },
        {
          "output_type": "stream",
          "name": "stderr",
          "text": [
            "/usr/local/lib/python3.10/dist-packages/sklearn/metrics/_classification.py:1565: UndefinedMetricWarning: Precision is ill-defined and being set to 0.0 in labels with no predicted samples. Use `zero_division` parameter to control this behavior.\n",
            "  _warn_prf(average, modifier, f\"{metric.capitalize()} is\", len(result))\n"
          ]
        },
        {
          "output_type": "stream",
          "name": "stdout",
          "text": [
            "Accuracy: 1.00\n",
            "Precision: 1.00\n",
            "Recall: 1.00\n",
            "\n",
            "Class-wise Accuracy:\n",
            "Class 3 Accuracy: 0.00\n",
            "Class 4 Accuracy: 0.00\n",
            "Class 5 Accuracy: 1.00\n",
            "Class 6 Accuracy: 0.00\n",
            "Class 7 Accuracy: 0.00\n",
            "Class 8 Accuracy: 0.00\n",
            "\n",
            "Duplicate Percentage: 200% for Class 5\n"
          ]
        },
        {
          "output_type": "stream",
          "name": "stderr",
          "text": [
            "/usr/local/lib/python3.10/dist-packages/sklearn/metrics/_classification.py:1565: UndefinedMetricWarning: Precision is ill-defined and being set to 0.0 in labels with no predicted samples. Use `zero_division` parameter to control this behavior.\n",
            "  _warn_prf(average, modifier, f\"{metric.capitalize()} is\", len(result))\n"
          ]
        },
        {
          "output_type": "stream",
          "name": "stdout",
          "text": [
            "Accuracy: 1.00\n",
            "Precision: 1.00\n",
            "Recall: 1.00\n",
            "\n",
            "Class-wise Accuracy:\n"
          ]
        },
        {
          "output_type": "stream",
          "name": "stderr",
          "text": [
            "/usr/local/lib/python3.10/dist-packages/sklearn/metrics/_classification.py:1565: UndefinedMetricWarning: Precision is ill-defined and being set to 0.0 in labels with no predicted samples. Use `zero_division` parameter to control this behavior.\n",
            "  _warn_prf(average, modifier, f\"{metric.capitalize()} is\", len(result))\n"
          ]
        },
        {
          "output_type": "stream",
          "name": "stdout",
          "text": [
            "Class 3 Accuracy: 0.00\n",
            "Class 4 Accuracy: 0.00\n",
            "Class 5 Accuracy: 1.00\n",
            "Class 6 Accuracy: 0.00\n",
            "Class 7 Accuracy: 0.00\n",
            "Class 8 Accuracy: 0.00\n"
          ]
        }
      ]
    },
    {
      "cell_type": "markdown",
      "id": "bdb0090e",
      "metadata": {
        "id": "bdb0090e"
      },
      "source": [
        "# Question 3.2\n",
        "#### Add your code here. You can use pandas and the dowhy python packges to generate synthetic data and evaluate the ATE"
      ]
    },
    {
      "cell_type": "code",
      "source": [
        "import pandas as pd\n",
        "import numpy as np\n",
        "import matplotlib.pyplot as plt\n",
        "from sklearn.linear_model import LogisticRegression\n",
        "from sklearn.metrics import mean_squared_error\n",
        "\n",
        "# Step 1: Generate Synthetic Data\n",
        "np.random.seed(42)\n",
        "n = 5000  # Number of observations\n",
        "\n",
        "# Generate Age (normally distributed)\n",
        "age = np.random.normal(loc=50, scale=10, size=n) #mean - 50,  standard deviation - 10\n",
        "\n",
        "# Generate Treatment (binary, dependent on Age using logistic regression)\n",
        "# The probability of receiving Treatment increases with Age\n",
        "age_reshaped = age.reshape(-1, 1)\n",
        "logistic_model = LogisticRegression()\n",
        "logistic_model.fit(age_reshaped, (age > 50).astype(int))\n",
        "treatment_prob = logistic_model.predict_proba(age_reshaped)[:, 1]\n",
        "treatment = (np.random.rand(n) < treatment_prob).astype(int)\n",
        "\n",
        "# Generate Blood Pressure (dependent on Age and Treatment with noise)\n",
        "# The blood_pressure represents linear combination of the variables age and treatment, plus a constant baseline (120) and random noise (noise).\n",
        "noise = np.random.normal(0, 5, size=n)\n",
        "blood_pressure = 120 + 0.5 * age - 10 * treatment + noise\n",
        "\n",
        "# Create DataFrame\n",
        "data = pd.DataFrame({'Age': age, 'Treatment': treatment, 'BloodPressure': blood_pressure})\n",
        "\n",
        "# Step 2: Add Outliers\n",
        "def add_outliers(data, column, group_col, group_value, percentage, extreme_value):\n",
        "    \"\"\"Add outliers to a specific column for a given group.\"\"\"\n",
        "    group_indices = data[data[group_col] == group_value].index\n",
        "    num_outliers = int(len(group_indices) * percentage)\n",
        "    outlier_indices = np.random.choice(group_indices, num_outliers, replace=False)\n",
        "    data.loc[outlier_indices, column] = extreme_value\n",
        "\n",
        "# Add outliers to the Blood Pressure variable for the Treatment, Control, or Both Groups\n",
        "percentages = np.linspace(0, 1, 10)  # Outlier percentages (0% to 100%)\n",
        "ate_values_treatment = []\n",
        "ate_values_control = []\n",
        "ate_values_both = []\n",
        "\n",
        "for perc in percentages:\n",
        "    # Case 1: Outliers in the treatment group\n",
        "    data_with_outliers_treatment = data.copy()\n",
        "    add_outliers(data_with_outliers_treatment, 'BloodPressure', 'Treatment', 1, perc, extreme_value=200)\n",
        "    treated = data_with_outliers_treatment[data_with_outliers_treatment['Treatment'] == 1]['BloodPressure']\n",
        "    control = data_with_outliers_treatment[data_with_outliers_treatment['Treatment'] == 0]['BloodPressure']\n",
        "    ate_treatment = treated.mean() - control.mean()\n",
        "    ate_values_treatment.append(ate_treatment)\n",
        "\n",
        "    # Case 2: Outliers in the control group\n",
        "    data_with_outliers_control = data.copy()\n",
        "    add_outliers(data_with_outliers_control, 'BloodPressure', 'Treatment', 0, perc, extreme_value=200)\n",
        "    treated = data_with_outliers_control[data_with_outliers_control['Treatment'] == 1]['BloodPressure']\n",
        "    control = data_with_outliers_control[data_with_outliers_control['Treatment'] == 0]['BloodPressure']\n",
        "    ate_control = treated.mean() - control.mean()\n",
        "    ate_values_control.append(ate_control)\n",
        "\n",
        "    # Case 3: Outliers in both groups\n",
        "    data_with_outliers_both = data.copy()\n",
        "    add_outliers(data_with_outliers_both, 'BloodPressure', 'Treatment', 1, perc, extreme_value=200)\n",
        "    add_outliers(data_with_outliers_both, 'BloodPressure', 'Treatment', 0, perc, extreme_value=200)\n",
        "    treated = data_with_outliers_both[data_with_outliers_both['Treatment'] == 1]['BloodPressure']\n",
        "    control = data_with_outliers_both[data_with_outliers_both['Treatment'] == 0]['BloodPressure']\n",
        "    ate_both = treated.mean() - control.mean()\n",
        "    ate_values_both.append(ate_both)\n",
        "\n",
        "# Step 3: Plot Results\n",
        "plt.figure(figsize=(10, 6))\n",
        "plt.plot(percentages * 100, ate_values_treatment, marker='o', linestyle='-', color='b', label='Treatment Group Outliers')\n",
        "plt.plot(percentages * 100, ate_values_control, marker='o', linestyle='--', color='r', label='Control Group Outliers')\n",
        "plt.plot(percentages * 100, ate_values_both, marker='o', linestyle='-.', color='g', label='Both Groups Outliers')\n",
        "plt.xlabel('Percentage of Outliers (%)')\n",
        "plt.ylabel('Average Treatment Effect (ATE)')\n",
        "plt.title('ATE vs Percentage of Outliers')\n",
        "plt.grid(True)\n",
        "plt.legend(loc='upper right')\n",
        "plt.show()\n"
      ],
      "metadata": {
        "colab": {
          "base_uri": "https://localhost:8080/",
          "height": 491
        },
        "id": "lVNXaGg7D8hZ",
        "outputId": "8fc67be1-1408-442d-d060-3c10bb58133e"
      },
      "id": "lVNXaGg7D8hZ",
      "execution_count": null,
      "outputs": [
        {
          "output_type": "display_data",
          "data": {
            "text/plain": [
              "<Figure size 1000x600 with 1 Axes>"
            ],
            "image/png": "[encoded data removed]"
          },
          "metadata": {}
        }
      ]
    },
    {
      "cell_type": "markdown",
      "source": [
        "# Question 3.2 - example"
      ],
      "metadata": {
        "id": "t_58GAz-FvF2"
      },
      "id": "t_58GAz-FvF2"
    },
    {
      "cell_type": "code",
      "execution_count": null,
      "id": "63ce33c3",
      "metadata": {
        "id": "63ce33c3",
        "outputId": "0d3a5e9e-6a86-4f7b-d7fa-49e6dc4f39a0",
        "colab": {
          "base_uri": "https://localhost:8080/",
          "height": 564
        }
      },
      "outputs": [
        {
          "output_type": "display_data",
          "data": {
            "text/plain": [
              "<Figure size 800x600 with 1 Axes>"
            ],
            "image/png": "[encoded data removed]"
          },
          "metadata": {}
        }
      ],
      "source": [
        "import matplotlib.pyplot as plt\n",
        "import numpy as np\n",
        "\n",
        "# Example data\n",
        "outliers = np.linspace(0, 100, 10)  # Percentage of outliers (0% to 100%)\n",
        "ate = np.linspace(0.8, 0.2, 10)     # Example ATE values decreasing\n",
        "\n",
        "# Create the plot\n",
        "plt.figure(figsize=(8, 6))\n",
        "plt.plot(outliers, ate, marker='o', linestyle='-', color='b', label='ATE Curve')\n",
        "\n",
        "# Add labels and title\n",
        "plt.xlabel('Percentage of Outliers (%)')\n",
        "plt.ylabel('Average Treatment Effect (ATE)')\n",
        "plt.title('ATE vs Percentage of Outliers')\n",
        "\n",
        "# Add grid and legend\n",
        "plt.grid(True)\n",
        "plt.legend(loc='upper right')\n",
        "\n",
        "# Show the plot\n",
        "plt.show()\n"
      ]
    },
    {
      "cell_type": "code",
      "execution_count": null,
      "id": "9324eaf0",
      "metadata": {
        "id": "9324eaf0"
      },
      "outputs": [],
      "source": []
    }
  ],
  "metadata": {
    "kernelspec": {
      "display_name": "Python 3 (ipykernel)",
      "language": "python",
      "name": "python3"
    },
    "language_info": {
      "codemirror_mode": {
        "name": "ipython",
        "version": 3
      },
      "file_extension": ".py",
      "mimetype": "text/x-python",
      "name": "python",
      "nbconvert_exporter": "python",
      "pygments_lexer": "ipython3",
      "version": "3.11.5"
    },
    "colab": {
      "provenance": []
    }
  },
  "nbformat": 4,
  "nbformat_minor": 5
}
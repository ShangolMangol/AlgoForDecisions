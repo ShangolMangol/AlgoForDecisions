{
  "cells": [
    {
      "cell_type": "markdown",
      "id": "c66312b6",
      "metadata": {
        "id": "c66312b6"
      },
      "source": [
        "# This part is relevant for qestion 2.1\n"
      ]
    },
    {
      "cell_type": "code",
      "source": [
        "!pip install mmh3\n",
        "!pip install bitarray"
      ],
      "metadata": {
        "colab": {
          "base_uri": "https://localhost:8080/"
        },
        "id": "kxb6NViOmvX6",
        "outputId": "77c05d2c-e0d8-4c33-8367-fb7b5726c510"
      },
      "id": "kxb6NViOmvX6",
      "execution_count": null,
      "outputs": [
        {
          "output_type": "stream",
          "name": "stdout",
          "text": [
            "Collecting mmh3\n",
            "  Downloading mmh3-5.0.1-cp310-cp310-manylinux_2_5_x86_64.manylinux1_x86_64.manylinux_2_17_x86_64.manylinux2014_x86_64.whl.metadata (14 kB)\n",
            "Downloading mmh3-5.0.1-cp310-cp310-manylinux_2_5_x86_64.manylinux1_x86_64.manylinux_2_17_x86_64.manylinux2014_x86_64.whl (93 kB)\n",
            "\u001b[?25l   \u001b[90m━━━━━━━━━━━━━━━━━━━━━━━━━━━━━━━━━━━━━━━━\u001b[0m \u001b[32m0.0/93.2 kB\u001b[0m \u001b[31m?\u001b[0m eta \u001b[36m-:--:--\u001b[0m\r\u001b[2K   \u001b[90m━━━━━━━━━━━━━━━━━━━━━━━━━━━━━━━━━━━━━━━━\u001b[0m \u001b[32m93.2/93.2 kB\u001b[0m \u001b[31m3.7 MB/s\u001b[0m eta \u001b[36m0:00:00\u001b[0m\n",
            "\u001b[?25hInstalling collected packages: mmh3\n",
            "Successfully installed mmh3-5.0.1\n",
            "Collecting bitarray\n",
            "  Downloading bitarray-3.0.0-cp310-cp310-manylinux_2_17_x86_64.manylinux2014_x86_64.whl.metadata (32 kB)\n",
            "Downloading bitarray-3.0.0-cp310-cp310-manylinux_2_17_x86_64.manylinux2014_x86_64.whl (278 kB)\n",
            "\u001b[2K   \u001b[90m━━━━━━━━━━━━━━━━━━━━━━━━━━━━━━━━━━━━━━━━\u001b[0m \u001b[32m278.3/278.3 kB\u001b[0m \u001b[31m6.1 MB/s\u001b[0m eta \u001b[36m0:00:00\u001b[0m\n",
            "\u001b[?25hInstalling collected packages: bitarray\n",
            "Successfully installed bitarray-3.0.0\n"
          ]
        }
      ]
    },
    {
      "cell_type": "code",
      "execution_count": null,
      "id": "5701cad6",
      "metadata": {
        "id": "5701cad6"
      },
      "outputs": [],
      "source": [
        "# Python 3 program to build Bloom Filter\n",
        "# Install mmh3 and bitarray 3rd party module first\n",
        "# pip install mmh3\n",
        "# pip install bitarray\n",
        "import math\n",
        "import mmh3\n",
        "from bitarray import bitarray\n",
        "\n",
        "\n",
        "class BloomFilter(object):\n",
        "\n",
        "\t'''\n",
        "\tClass for Bloom filter, using murmur3 hash function\n",
        "\t'''\n",
        "\n",
        "\tdef __init__(self, items_count, fp_prob):\n",
        "\t\t'''\n",
        "\t\titems_count : int\n",
        "\t\t\tNumber of items expected to be stored in bloom filter\n",
        "\t\tfp_prob : float\n",
        "\t\t\tFalse Positive probability in decimal\n",
        "\t\t'''\n",
        "\t\t# False possible probability in decimal\n",
        "\t\tself.fp_prob = fp_prob\n",
        "\n",
        "\t\t# Size of bit array to use\n",
        "\t\tself.size = self.get_size(items_count, fp_prob)\n",
        "\n",
        "\t\t# number of hash functions to use\n",
        "\t\tself.hash_count = self.get_hash_count(self.size, items_count)\n",
        "\n",
        "\t\t# Bit array of given size\n",
        "\t\tself.bit_array = bitarray(self.size)\n",
        "\n",
        "\t\t# initialize all bits as 0\n",
        "\t\tself.bit_array.setall(0)\n",
        "\n",
        "\tdef add(self, item):\n",
        "\t\t'''\n",
        "\t\tAdd an item in the filter\n",
        "\t\t'''\n",
        "\t\tdigests = []\n",
        "\t\tfor i in range(self.hash_count):\n",
        "\n",
        "\t\t\t# create digest for given item.\n",
        "\t\t\t# i work as seed to mmh3.hash() function\n",
        "\t\t\t# With different seed, digest created is different\n",
        "\t\t\tdigest = mmh3.hash(item, i) % self.size\n",
        "\t\t\tdigests.append(digest)\n",
        "\n",
        "\t\t\t# set the bit True in bit_array\n",
        "\t\t\tself.bit_array[digest] = True\n",
        "\n",
        "\tdef check(self, item):\n",
        "\t\t'''\n",
        "\t\tCheck for existence of an item in filter\n",
        "\t\t'''\n",
        "\t\tfor i in range(self.hash_count):\n",
        "\t\t\tdigest = mmh3.hash(item, i) % self.size\n",
        "\t\t\tif self.bit_array[digest] == False:\n",
        "\n",
        "\t\t\t\t# if any of bit is False then,its not present\n",
        "\t\t\t\t# in filter\n",
        "\t\t\t\t# else there is probability that it exist\n",
        "\t\t\t\treturn False\n",
        "\t\treturn True\n",
        "\n",
        "\t@classmethod\n",
        "\tdef get_size(self, n, p):\n",
        "\t\t'''\n",
        "\t\tReturn the size of bit array(m) to used using\n",
        "\t\tfollowing formula\n",
        "\t\tm = -(n * lg(p)) / (lg(2)^2)\n",
        "\t\tn : int\n",
        "\t\t\tnumber of items expected to be stored in filter\n",
        "\t\tp : float\n",
        "\t\t\tFalse Positive probability in decimal\n",
        "\t\t'''\n",
        "\t\tm = -(n * math.log(p))/(math.log(2)**2)\n",
        "\t\treturn int(m)\n",
        "\n",
        "\t@classmethod\n",
        "\tdef get_hash_count(self, m, n):\n",
        "\t\t'''\n",
        "\t\tReturn the hash function(k) to be used using\n",
        "\t\tfollowing formula\n",
        "\t\tk = (m/n) * lg(2)\n",
        "\n",
        "\t\tm : int\n",
        "\t\t\tsize of bit array\n",
        "\t\tn : int\n",
        "\t\t\tnumber of items expected to be stored in filter\n",
        "\t\t'''\n",
        "\t\tk = (m/n) * math.log(2)\n",
        "\t\treturn int(k)\n"
      ]
    },
    {
      "cell_type": "code",
      "execution_count": null,
      "id": "c6a8f1b9",
      "metadata": {
        "id": "c6a8f1b9"
      },
      "outputs": [],
      "source": [
        "def uniqe_items(random_list):\n",
        "    ans = len(set(random_list))\n",
        "    estimated_ans = 0\n",
        "\n",
        "    #####TODO######\n",
        "    #####Question 2.1############\n",
        "    '''\n",
        "    estimate the number of unique items by counting the number of zeros in a bloom filter.\n",
        "    You are allowed to change the implementation of the bloom filter provided above.\n",
        "    '''\n",
        "    zerosCnt=0\n",
        "    items_count = 100\n",
        "    fp_prob = 0.01\n",
        "    bloomFilter = BloomFilter(items_count, fp_prob)\n",
        "\n",
        "    for item in random_list:\n",
        "      bloomFilter.add(item)\n",
        "\n",
        "    for value in bloomFilter.bit_array:\n",
        "      if value == 0:\n",
        "        zerosCnt += 1\n",
        "\n",
        "    lenBitarray = bloomFilter.size\n",
        "    if zerosCnt > 0:\n",
        "      estimated_ans = -lenBitarray * math.log(zerosCnt / lenBitarray) / bloomFilter.hash_count\n",
        "    return ans, estimated_ans"
      ]
    },
    {
      "cell_type": "code",
      "execution_count": null,
      "id": "138005a5",
      "metadata": {
        "id": "138005a5",
        "outputId": "566393fe-2244-48c6-c758-7f7076c8191b",
        "colab": {
          "base_uri": "https://localhost:8080/"
        }
      },
      "outputs": [
        {
          "output_type": "stream",
          "name": "stdout",
          "text": [
            "['22', '35', '23', '20', '45', '65', '21', '19', '75', '84', '14', '77', '69', '43', '81', '76', '57', '88', '12', '28', '14', '19', '71', '54', '53', '33', '28', '65', '63', '60', '84', '70', '27', '60', '32', '75', '90', '55', '52', '30', '79', '47', '84', '71', '12', '20', '35', '40', '25', '13', '85', '68', '28', '35', '76', '17', '14', '17', '89', '35', '27', '50', '23', '59', '81', '60', '22', '88', '43', '81', '45', '66', '61', '70', '47', '68', '87', '32', '11', '58', '53', '22', '16', '43', '77', '25', '53', '43', '45', '80', '53', '58', '61', '37', '41', '59', '51', '60', '72', '26']\n",
            "True\n",
            "False\n"
          ]
        }
      ],
      "source": [
        "items_count = 100\n",
        "fp_prob = 0.01\n",
        "bloom = BloomFilter(items_count, fp_prob)\n",
        "\n",
        "import random\n",
        "\n",
        "# Generate a list of 100 random numbers between 10 and 90\n",
        "random_list = [str(random.randint(10, 90)) for _ in range(100)]\n",
        "print(random_list)\n",
        "\n",
        "for item in random_list:\n",
        "    bloom.add(item)\n",
        "\n",
        "print(bloom.check(random_list[0]))\n",
        "print(bloom.check(\"0\"))\n"
      ]
    },
    {
      "cell_type": "code",
      "execution_count": null,
      "id": "302beced",
      "metadata": {
        "id": "302beced",
        "outputId": "38a29402-b2a6-497d-dc94-c91b6d7deae2",
        "colab": {
          "base_uri": "https://localhost:8080/"
        }
      },
      "outputs": [
        {
          "output_type": "execute_result",
          "data": {
            "text/plain": [
              "(56, 56.14162084034904)"
            ]
          },
          "metadata": {},
          "execution_count": 5
        }
      ],
      "source": [
        "uniqe_items(random_list)"
      ]
    },
    {
      "cell_type": "code",
      "execution_count": null,
      "id": "778ddb42",
      "metadata": {
        "id": "778ddb42",
        "colab": {
          "base_uri": "https://localhost:8080/"
        },
        "outputId": "5cf2f849-2abf-49b5-e2cf-5b94d3c60fe5"
      },
      "outputs": [
        {
          "output_type": "stream",
          "name": "stdout",
          "text": [
            "Maximum Error: 1.277712676859089\n",
            "Minimum Error: 0.03248129775275288\n",
            "Average Error: 0.4829311102224247\n"
          ]
        }
      ],
      "source": [
        "# ----------- code for part 2.2 --------------\n",
        "max_error = float('-inf')\n",
        "min_error = float('inf')\n",
        "total_error = 0\n",
        "total_samples = 50\n",
        "\n",
        "for i in range(total_samples):\n",
        "    random_list = [str(random.randint(1, 50)) for _ in range(100)]\n",
        "    true_uniques, estimated_uniques = uniqe_items(random_list)  # Replace with actual implementation\n",
        "    # Compute absolute error\n",
        "    error = abs(true_uniques - estimated_uniques)\n",
        "\n",
        "    # Update max and min errors\n",
        "    max_error = max(max_error, error)\n",
        "    min_error = min(min_error, error)\n",
        "\n",
        "    # Add to total error for average computation\n",
        "    total_error += error\n",
        "\n",
        "# Compute average error\n",
        "avg_error = total_error / total_samples\n",
        "\n",
        "# Print results\n",
        "print(f\"Maximum Error: {max_error}\")\n",
        "print(f\"Minimum Error: {min_error}\")\n",
        "print(f\"Average Error: {avg_error}\")"
      ]
    },
    {
      "cell_type": "code",
      "execution_count": null,
      "id": "80ab72eb",
      "metadata": {
        "id": "80ab72eb",
        "colab": {
          "base_uri": "https://localhost:8080/"
        },
        "outputId": "dc354f6b-7201-4310-b372-acf336cb68f7"
      },
      "outputs": [
        {
          "output_type": "stream",
          "name": "stdout",
          "text": [
            "=====Adding the item: 5=====\n",
            "Hash value #0 for item 5: 1\n",
            "Hash value #1 for item 5: 12\n",
            "Hash value #2 for item 5: 4\n",
            "Hash value #3 for item 5: 11\n",
            "=====Adding the item: 12=====\n",
            "Hash value #0 for item 12: 6\n",
            "Hash value #1 for item 12: 15\n",
            "Hash value #2 for item 12: 5\n",
            "Hash value #3 for item 12: 8\n",
            "=====Adding the item: 7=====\n",
            "Hash value #0 for item 7: 7\n",
            "Hash value #1 for item 7: 6\n",
            "Hash value #2 for item 7: 2\n",
            "Hash value #3 for item 7: 1\n",
            "=====Adding the item: 5=====\n",
            "Hash value #0 for item 5: 1\n",
            "Hash value #1 for item 5: 12\n",
            "Hash value #2 for item 5: 4\n",
            "Hash value #3 for item 5: 11\n",
            "=====Adding the item: 10=====\n",
            "Hash value #0 for item 10: 0\n",
            "Hash value #1 for item 10: 5\n",
            "Hash value #2 for item 10: 7\n",
            "Hash value #3 for item 10: 2\n",
            "=====Adding the item: 7=====\n",
            "Hash value #0 for item 7: 7\n",
            "Hash value #1 for item 7: 6\n",
            "Hash value #2 for item 7: 2\n",
            "Hash value #3 for item 7: 1\n",
            "=====Adding the item: 12=====\n",
            "Hash value #0 for item 12: 6\n",
            "Hash value #1 for item 12: 15\n",
            "Hash value #2 for item 12: 5\n",
            "Hash value #3 for item 12: 8\n",
            "=====Adding the item: 7=====\n",
            "Hash value #0 for item 7: 7\n",
            "Hash value #1 for item 7: 6\n",
            "Hash value #2 for item 7: 2\n",
            "Hash value #3 for item 7: 1\n",
            "=====Adding the item: 10=====\n",
            "Hash value #0 for item 10: 0\n",
            "Hash value #1 for item 10: 5\n",
            "Hash value #2 for item 10: 7\n",
            "Hash value #3 for item 10: 2\n",
            "=====Adding the item: 12=====\n",
            "Hash value #0 for item 12: 6\n",
            "Hash value #1 for item 12: 15\n",
            "Hash value #2 for item 12: 5\n",
            "Hash value #3 for item 12: 8\n",
            "\n",
            "True count of unique items: 4\n",
            "FM Sketch estimate: 4.5\n"
          ]
        }
      ],
      "source": [
        "# ----------- code for part 2.3 --------------\n",
        "import random\n",
        "import mmh3\n",
        "import math\n",
        "from statistics import harmonic_mean\n",
        "\n",
        "# FM Sketch Implementation\n",
        "class FMSketch:\n",
        "    def __init__(self, num_hash_func, bitmap_size, hash_functions): #todo this wasnt bitmap_size it was range, and I dont see we use them\n",
        "        self.num_hash_func = num_hash_func\n",
        "        self.bitmap_size = bitmap_size\n",
        "        self.hash_functions = hash_functions\n",
        "        self.counters = [0] * num_hash_func\n",
        "\n",
        "    def add(self, item):\n",
        "        print(f\"=====Adding the item: {item}=====\")\n",
        "        for i in range(self.num_hash_func):\n",
        "            hash_value = self.hash_functions[i](item)\n",
        "            print(f\"Hash value #{i} for item {item}: {hash_value}\")\n",
        "            trailing_zeros = self.count_trailing_zeros(hash_value)\n",
        "            self.counters[i] = max(self.counters[i], trailing_zeros)\n",
        "\n",
        "    def estimate(self):\n",
        "        estimates = [2 ** trailing_zeros for trailing_zeros in self.counters]\n",
        "        return sum(estimates)/len(estimates)\n",
        "\n",
        "    def count_trailing_zeros(self, num):\n",
        "        # Count trailing zeros in binary representation of num\n",
        "        if num == 0:\n",
        "            return 0\n",
        "        binary_representation = bin(num)[2:]  # Convert to binary\n",
        "        trailing_zeros = len(binary_representation) - len(binary_representation.rstrip('0'))\n",
        "        return trailing_zeros\n",
        "\n",
        "\n",
        "def h1(x):\n",
        "    return (3 * x + 2) % 16\n",
        "\n",
        "def h2(x):\n",
        "    return (5 * x + 3) % 16\n",
        "\n",
        "def h3(x):\n",
        "    return (7 * x + 1) % 16\n",
        "\n",
        "def h4(x):\n",
        "    return (11 * x + 4) % 16\n",
        "\n",
        "\n",
        "data_stream = [5, 12, 7, 5, 10, 7, 12, 7, 10, 12]\n",
        "bitmap_size = 16\n",
        "hash_functions = [h1, h2, h3, h4]\n",
        "\n",
        "# TODO: Apply FM Sketch\n",
        "fm_sketch = FMSketch(num_hash_func=4, bitmap_size=bitmap_size, hash_functions=hash_functions)\n",
        "\n",
        "for item in data_stream:\n",
        "    fm_sketch.add(item)\n",
        "\n",
        "# TODO: Estimate the number of distinct elements\n",
        "fm_estimate = fm_sketch.estimate()\n",
        "# TODO: True count of unique items\n",
        "true_count = len(set(data_stream))\n",
        "\n",
        "print(f\"\\nTrue count of unique items: {true_count}\")\n",
        "print(f\"FM Sketch estimate: {fm_estimate}\")"
      ]
    },
    {
      "cell_type": "markdown",
      "id": "cad35e61",
      "metadata": {
        "id": "cad35e61"
      },
      "source": [
        "# This part is relevant for question 3.1 + 3.4\n"
      ]
    },
    {
      "cell_type": "code",
      "execution_count": null,
      "id": "15419f2f",
      "metadata": {
        "id": "15419f2f",
        "colab": {
          "base_uri": "https://localhost:8080/"
        },
        "outputId": "7ff2d92c-b4a3-4f35-9e6b-af1de44818e1"
      },
      "outputs": [
        {
          "output_type": "stream",
          "name": "stdout",
          "text": [
            "MinHash Signature for A: [5, 2, 5]\n",
            "MinHash Signature for B: [9, 2, 4]\n",
            "Jaccard Similarity for A and B: 0.42857142857142855\n",
            "Jaccard Similarity approximation unsing Minhash, k=3: 0.3333333333333333\n",
            "Jaccard Similarity approximation unsing Minhash, k=5: 0.4\n"
          ]
        }
      ],
      "source": [
        "import random\n",
        "\n",
        "\n",
        "def minhash_signature(S, k):\n",
        "    \"\"\"\n",
        "    Compute the MinHash signature for a given set S using k hash functions.\n",
        "    Args:\n",
        "        S : The input set of integers.\n",
        "        k : The number of hash functions to use.\n",
        "    Returns:\n",
        "        The MinHash signature of set S.\n",
        "    \"\"\"\n",
        "    signature = [-1]*k\n",
        "    for i in range(k):\n",
        "      h_i = hash_functions[i]\n",
        "      for item in range(1,14):\n",
        "        if h_i(item) in S:\n",
        "          signature[i]= h_i(item)\n",
        "          break\n",
        "\n",
        "        # print(f\"item {item} ==> {h_i(item)}\")\n",
        "    return signature\n",
        "\n",
        "def jaccard_similarity(set1, set2):\n",
        "    \"\"\"\n",
        "    Calculate the Jaccard similarity between two sets.\n",
        "    Args:\n",
        "        set1 : The first set.\n",
        "        set2 : The second set.\n",
        "    Returns:\n",
        "        Jaccard similarity index.\n",
        "    \"\"\"\n",
        "    intersection = len(set1.intersection(set2))\n",
        "    union = len(set1.union(set2))\n",
        "    if union == 0:\n",
        "      return 0.0\n",
        "    return intersection / union\n",
        "\n",
        "\n",
        "def minhash_algorithm(S, T, k):\n",
        "    \"\"\"\n",
        "    Approximating the Jaccard Similarity for a given set S using k hash functions, using MinHash algorithm\n",
        "    Args:\n",
        "        S : The first input set of integers.\n",
        "        T : The second input set of integers.\n",
        "        k : The number of hash functions to use.\n",
        "    Returns:\n",
        "        The approximation of the Jaccard Similarity\n",
        "    \"\"\"\n",
        "    count = 0\n",
        "    for i in range(k):\n",
        "      h_i = hash_functions[i]\n",
        "      for item in range(1,14):\n",
        "        if h_i(item) in S and h_i(item) in T:\n",
        "          count += 1\n",
        "          break\n",
        "        elif h_i(item) in S or h_i(item) in T:\n",
        "          break\n",
        "\n",
        "        # print(f\"item {item} ==> {h_i(item)}\")\n",
        "    return count/k\n",
        "\n",
        "\n",
        "hash_functions = [\n",
        "        lambda x: (2 * x + 1) % 11,  # h1(x)\n",
        "        lambda x: (3 * x + 4) % 11,  # h2(x)\n",
        "        lambda x: (5 * x + 2) % 11,  # h3(x)\n",
        "        lambda x: (7 * x + 3) % 11,  # h4(x)\n",
        "        lambda x: (9 * x + 6) % 11,  # h5(x)\n",
        "    ]\n",
        "\n",
        "A = {2, 5, 8, 9, 11}\n",
        "B = {2, 4, 8, 9, 13}\n",
        "\n",
        "k = 3\n",
        "\n",
        "# TODO: calculate and print all the result from part 3.4 a-c\n",
        "\n",
        "print(f\"MinHash Signature for A: {minhash_signature(A, k)}\")\n",
        "print(f\"MinHash Signature for B: {minhash_signature(B, k)}\")\n",
        "\n",
        "print(f\"Jaccard Similarity for A and B: {jaccard_similarity(A, B)}\")\n",
        "\n",
        "print(f\"Jaccard Similarity approximation unsing Minhash, k={k}: {minhash_algorithm(A, B, k)}\")\n",
        "\n",
        "k=5\n",
        "print(f\"Jaccard Similarity approximation unsing Minhash, k={k}: {minhash_algorithm(A, B, k)}\")\n",
        "\n"
      ]
    }
  ],
  "metadata": {
    "kernelspec": {
      "display_name": "Python 3 (ipykernel)",
      "language": "python",
      "name": "python3"
    },
    "language_info": {
      "codemirror_mode": {
        "name": "ipython",
        "version": 3
      },
      "file_extension": ".py",
      "mimetype": "text/x-python",
      "name": "python",
      "nbconvert_exporter": "python",
      "pygments_lexer": "ipython3",
      "version": "3.11.5"
    },
    "colab": {
      "provenance": []
    }
  },
  "nbformat": 4,
  "nbformat_minor": 5
}